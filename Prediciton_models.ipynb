{
 "cells": [
  {
   "cell_type": "code",
   "execution_count": 320,
   "metadata": {},
   "outputs": [],
   "source": [
    "import pandas as pd\n",
    "import numpy as np\n",
    "from matplotlib import pyplot\n",
    "#from pandas import read_csv, set_option\n",
    "from pandas import Series, datetime\n",
    "from pandas.tools.plotting import scatter_matrix, autocorrelation_plot\n",
    "\n",
    "# Machine Learning libraries\n",
    "from sklearn.preprocessing import StandardScaler\n",
    "from sklearn.model_selection import KFold, cross_val_score, GridSearchCV, TimeSeriesSplit\n",
    "from sklearn.metrics import classification_report, confusion_matrix, accuracy_score, mean_squared_error\n",
    "from sklearn.pipeline import Pipeline\n",
    "from sklearn.linear_model import LogisticRegression\n",
    "from sklearn.tree import DecisionTreeClassifier\n",
    "from sklearn.neighbors import KNeighborsClassifier\n",
    "from sklearn.discriminant_analysis import LinearDiscriminantAnalysis\n",
    "from sklearn.naive_bayes import GaussianNB\n",
    "from sklearn.svm import SVC\n",
    "from sklearn.ensemble import AdaBoostClassifier, GradientBoostingClassifier, RandomForestClassifier, ExtraTreesClassifier\n",
    "from sklearn.metrics import roc_curve, auc, recall_score, precision_score,log_loss\n",
    "\n",
    "\n",
    "import matplotlib.pyplot as plt\n",
    "import random\n",
    "from statsmodels.graphics.tsaplots import plot_acf, plot_pacf\n",
    "from statsmodels.tsa.arima_model import ARIMA\n",
    "from xgboost import XGBClassifier\n",
    "\n",
    "# Graphs\n",
    "import seaborn as sns\n",
    "import plotly.graph_objs as go\n",
    "import plotly.offline as py\n",
    "\n",
    "# Surpress all warnings\n",
    "import warnings\n",
    "warnings.filterwarnings(\"ignore\")"
   ]
  },
  {
   "cell_type": "code",
   "execution_count": 261,
   "metadata": {},
   "outputs": [
    {
     "data": {
      "text/html": [
       "<div>\n",
       "<style scoped>\n",
       "    .dataframe tbody tr th:only-of-type {\n",
       "        vertical-align: middle;\n",
       "    }\n",
       "\n",
       "    .dataframe tbody tr th {\n",
       "        vertical-align: top;\n",
       "    }\n",
       "\n",
       "    .dataframe thead th {\n",
       "        text-align: right;\n",
       "    }\n",
       "</style>\n",
       "<table border=\"1\" class=\"dataframe\">\n",
       "  <thead>\n",
       "    <tr style=\"text-align: right;\">\n",
       "      <th></th>\n",
       "      <th>close</th>\n",
       "      <th>compound</th>\n",
       "      <th>like</th>\n",
       "      <th>replies</th>\n",
       "      <th>retweets</th>\n",
       "      <th>vol</th>\n",
       "    </tr>\n",
       "  </thead>\n",
       "  <tbody>\n",
       "    <tr>\n",
       "      <th>2019-05-01 00:00:00</th>\n",
       "      <td>5335.62</td>\n",
       "      <td>0.266588</td>\n",
       "      <td>3955</td>\n",
       "      <td>493</td>\n",
       "      <td>743</td>\n",
       "      <td>1362.165784</td>\n",
       "    </tr>\n",
       "    <tr>\n",
       "      <th>2019-05-01 01:00:00</th>\n",
       "      <td>5338.85</td>\n",
       "      <td>0.225017</td>\n",
       "      <td>1764</td>\n",
       "      <td>380</td>\n",
       "      <td>345</td>\n",
       "      <td>631.481774</td>\n",
       "    </tr>\n",
       "    <tr>\n",
       "      <th>2019-05-01 02:00:00</th>\n",
       "      <td>5355.07</td>\n",
       "      <td>0.264474</td>\n",
       "      <td>1395</td>\n",
       "      <td>312</td>\n",
       "      <td>216</td>\n",
       "      <td>1012.867995</td>\n",
       "    </tr>\n",
       "    <tr>\n",
       "      <th>2019-05-01 03:00:00</th>\n",
       "      <td>5348.95</td>\n",
       "      <td>0.274383</td>\n",
       "      <td>1387</td>\n",
       "      <td>223</td>\n",
       "      <td>199</td>\n",
       "      <td>1427.585822</td>\n",
       "    </tr>\n",
       "    <tr>\n",
       "      <th>2019-05-01 04:00:00</th>\n",
       "      <td>5341.13</td>\n",
       "      <td>0.305488</td>\n",
       "      <td>840</td>\n",
       "      <td>120</td>\n",
       "      <td>155</td>\n",
       "      <td>512.101053</td>\n",
       "    </tr>\n",
       "  </tbody>\n",
       "</table>\n",
       "</div>"
      ],
      "text/plain": [
       "                       close  compound  like  replies  retweets          vol\n",
       "2019-05-01 00:00:00  5335.62  0.266588  3955      493       743  1362.165784\n",
       "2019-05-01 01:00:00  5338.85  0.225017  1764      380       345   631.481774\n",
       "2019-05-01 02:00:00  5355.07  0.264474  1395      312       216  1012.867995\n",
       "2019-05-01 03:00:00  5348.95  0.274383  1387      223       199  1427.585822\n",
       "2019-05-01 04:00:00  5341.13  0.305488   840      120       155   512.101053"
      ]
     },
     "execution_count": 261,
     "metadata": {},
     "output_type": "execute_result"
    }
   ],
   "source": [
    "aggregated = pd.read_json('aggregated_sentiment.json')\n",
    "\n",
    "aggregated.head()"
   ]
  },
  {
   "cell_type": "markdown",
   "metadata": {},
   "source": [
    "# Add new features"
   ]
  },
  {
   "cell_type": "code",
   "execution_count": 262,
   "metadata": {},
   "outputs": [
    {
     "name": "stdout",
     "output_type": "stream",
     "text": [
      "class data\n",
      "                     compound  like  ma_compound_3d  ma_compound_7d  \\\n",
      "2019-05-01 00:00:00  0.266588  3955             0.0             0.0   \n",
      "2019-05-01 01:00:00  0.225017  1764             0.0             0.0   \n",
      "2019-05-01 02:00:00  0.264474  1395             0.0             0.0   \n",
      "2019-05-01 03:00:00  0.274383  1387             0.0             0.0   \n",
      "2019-05-01 04:00:00  0.305488   840             0.0             0.0   \n",
      "\n",
      "                     ma_compound_14d  ma_like_3d  ma_like_7d  ma_like_14d  \\\n",
      "2019-05-01 00:00:00              0.0         0.0         0.0          0.0   \n",
      "2019-05-01 01:00:00              0.0         0.0         0.0          0.0   \n",
      "2019-05-01 02:00:00              0.0         0.0         0.0          0.0   \n",
      "2019-05-01 03:00:00              0.0         0.0         0.0          0.0   \n",
      "2019-05-01 04:00:00              0.0         0.0         0.0          0.0   \n",
      "\n",
      "                     lag_returns_1h  lag_returns_2h  lag_returns_3h  \\\n",
      "2019-05-01 00:00:00        0.000000        0.000000        0.000000   \n",
      "2019-05-01 01:00:00        0.000000        0.000000        0.000000   \n",
      "2019-05-01 02:00:00        0.060537        0.000000        0.000000   \n",
      "2019-05-01 03:00:00        0.303811        0.060537        0.000000   \n",
      "2019-05-01 04:00:00       -0.114284        0.303811        0.060537   \n",
      "\n",
      "                      lag_vol_1h   lag_vol_2h   lag_vol_3h  buy_signal  \n",
      "2019-05-01 00:00:00     0.000000     0.000000     0.000000           0  \n",
      "2019-05-01 01:00:00  1362.165784     0.000000     0.000000           0  \n",
      "2019-05-01 02:00:00   631.481774  1362.165784     0.000000           1  \n",
      "2019-05-01 03:00:00  1012.867995   631.481774  1362.165784           0  \n",
      "2019-05-01 04:00:00  1427.585822  1012.867995   631.481774           0  \n"
     ]
    }
   ],
   "source": [
    "def hourly_return(adj_close):\n",
    "    returns = []\n",
    "    for i in range(0, len(adj_close)-1):\n",
    "        future = adj_close[i+1]\n",
    "        current = adj_close[i]\n",
    "        daily_return = (future - current)/current*100\n",
    "        returns.append(daily_return)\n",
    "    return returns\n",
    "\n",
    "returns = hourly_return(aggregated['close'])\n",
    "# There needs to be a zero at index 0 because we can't comput return for that day\n",
    "returns.insert(0,0)\n",
    "\n",
    "\n",
    "#mu = np.mean(returns)*252.           # drift coefficient\n",
    "#sig = np.std(returns)*np.sqrt(252.)  # diffusion coefficient\n",
    "\n",
    "def classification(fee, returns):\n",
    "    outcome = []\n",
    "    for i in returns:\n",
    "        if i > fee:\n",
    "            outcome.append(1)\n",
    "        else:\n",
    "            outcome.append(0)\n",
    "    return outcome\n",
    "\n",
    "def add_ma(source, var, list_mean):\n",
    "    df = source.copy()\n",
    "    for i in list_mean:\n",
    "        temp = source[var].rolling(i*24).mean()\n",
    "        #source[var].shift(i)\n",
    "        df[str('ma_'+var+'_'+str(i)+'d')] = temp\n",
    "        \n",
    "    return df\n",
    "\n",
    "def add_lag(source, var, lags):\n",
    "    df = source.copy()\n",
    "    for i in range(1, lags+1):\n",
    "        temp = source[var].shift(i)\n",
    "        df[str('lag_'+var+'_'+str(i)+'h')] = temp\n",
    "        \n",
    "    return df\n",
    "\n",
    "# classification data prep\n",
    "\n",
    "outcome = classification(0.1, returns)\n",
    "\n",
    "aggregated = aggregated.assign(returns = returns, buy_signal = outcome)\n",
    "\n",
    "model_df = aggregated.drop(['replies','retweets'], axis = 1)\n",
    "\n",
    "# Add moving averages\n",
    "list_mean = [3,7,14]\n",
    "model_df = add_ma(model_df, 'compound', list_mean)\n",
    "model_df = add_ma(model_df, 'like', list_mean)\n",
    "\n",
    "# Add Laggs\n",
    "model_df = add_lag(model_df, 'returns', 3)\n",
    "\n",
    "model_df = add_lag(model_df, 'vol', 3)\n",
    "\n",
    "# Fill NAs\n",
    "model_df = model_df.fillna(0)\n",
    "\n",
    "financial = model_df.copy()\n",
    "\n",
    "# dorp returns\n",
    "model_df = model_df.drop(['returns','vol', 'close'], axis = 1)\n",
    "\n",
    "\n",
    "# put outcome variable last\n",
    "y = model_df['buy_signal']\n",
    "\n",
    "model_df = model_df.drop('buy_signal', axis =1)\n",
    "model_df['buy_signal'] = y\n",
    "\n",
    "\n",
    "\n",
    "# Dataset for classification\n",
    "print('class data')\n",
    "print(model_df.head())\n"
   ]
  },
  {
   "cell_type": "code",
   "execution_count": 263,
   "metadata": {},
   "outputs": [
    {
     "data": {
      "text/html": [
       "<div>\n",
       "<style scoped>\n",
       "    .dataframe tbody tr th:only-of-type {\n",
       "        vertical-align: middle;\n",
       "    }\n",
       "\n",
       "    .dataframe tbody tr th {\n",
       "        vertical-align: top;\n",
       "    }\n",
       "\n",
       "    .dataframe thead th {\n",
       "        text-align: right;\n",
       "    }\n",
       "</style>\n",
       "<table border=\"1\" class=\"dataframe\">\n",
       "  <thead>\n",
       "    <tr style=\"text-align: right;\">\n",
       "      <th></th>\n",
       "      <th>compound</th>\n",
       "      <th>like</th>\n",
       "      <th>ma_compound_3d</th>\n",
       "      <th>ma_compound_7d</th>\n",
       "      <th>ma_compound_14d</th>\n",
       "      <th>ma_like_3d</th>\n",
       "      <th>ma_like_7d</th>\n",
       "      <th>ma_like_14d</th>\n",
       "      <th>lag_returns_1h</th>\n",
       "      <th>lag_returns_2h</th>\n",
       "      <th>lag_returns_3h</th>\n",
       "      <th>lag_vol_1h</th>\n",
       "      <th>lag_vol_2h</th>\n",
       "      <th>lag_vol_3h</th>\n",
       "      <th>buy_signal</th>\n",
       "    </tr>\n",
       "  </thead>\n",
       "  <tbody>\n",
       "  </tbody>\n",
       "</table>\n",
       "</div>"
      ],
      "text/plain": [
       "Empty DataFrame\n",
       "Columns: [compound, like, ma_compound_3d, ma_compound_7d, ma_compound_14d, ma_like_3d, ma_like_7d, ma_like_14d, lag_returns_1h, lag_returns_2h, lag_returns_3h, lag_vol_1h, lag_vol_2h, lag_vol_3h, buy_signal]\n",
       "Index: []"
      ]
     },
     "execution_count": 263,
     "metadata": {},
     "output_type": "execute_result"
    }
   ],
   "source": [
    "# Sanity Check for missing values in compound\n",
    "model_df[model_df['compound'] == 0]"
   ]
  },
  {
   "cell_type": "code",
   "execution_count": 264,
   "metadata": {},
   "outputs": [
    {
     "name": "stdout",
     "output_type": "stream",
     "text": [
      "                     lag_returns_1h  lag_returns_2h  lag_returns_3h  \\\n",
      "2019-05-01 00:00:00        0.000000        0.000000        0.000000   \n",
      "2019-05-01 01:00:00        0.000000        0.000000        0.000000   \n",
      "2019-05-01 02:00:00        0.060537        0.000000        0.000000   \n",
      "2019-05-01 03:00:00        0.303811        0.060537        0.000000   \n",
      "2019-05-01 04:00:00       -0.114284        0.303811        0.060537   \n",
      "\n",
      "                      lag_vol_1h   lag_vol_2h   lag_vol_3h  buy_signal  \n",
      "2019-05-01 00:00:00     0.000000     0.000000     0.000000           0  \n",
      "2019-05-01 01:00:00  1362.165784     0.000000     0.000000           0  \n",
      "2019-05-01 02:00:00   631.481774  1362.165784     0.000000           1  \n",
      "2019-05-01 03:00:00  1012.867995   631.481774  1362.165784           0  \n",
      "2019-05-01 04:00:00  1427.585822  1012.867995   631.481774           0  \n"
     ]
    }
   ],
   "source": [
    "# financial data prep\n",
    "\n",
    "financial_only = financial.loc[:, ['returns','vol']]\n",
    "\n",
    "# Add lags\n",
    "financial_only = add_lag(financial_only, 'returns', 3)\n",
    "\n",
    "# Add lags\n",
    "financial_only = add_lag(financial_only, 'vol', 3)\n",
    "\n",
    "financial_only = financial_only.drop(['returns','vol'], axis =1)\n",
    "\n",
    "# Set outcome variable last\n",
    "financial_only['buy_signal'] =  y\n",
    "\n",
    "# Fill NAs\n",
    "financial_only = financial_only.fillna(0)\n",
    "\n",
    "# Dataset for classification\n",
    "print(financial_only.head())"
   ]
  },
  {
   "cell_type": "code",
   "execution_count": 265,
   "metadata": {},
   "outputs": [],
   "source": [
    "# drop return\n",
    "#senti = model_df.drop('returns', axis=1)\n",
    "#fin = financial_only.drop('returns', axis=1)"
   ]
  },
  {
   "cell_type": "code",
   "execution_count": 266,
   "metadata": {},
   "outputs": [],
   "source": [
    "def train_test_split_own(df, days):\n",
    "    values = df.values\n",
    "    n_train_hours = days * 24\n",
    "    train = values[:n_train_hours, :]\n",
    "    test = values[n_train_hours:, :]\n",
    "    # split into input and outputs\n",
    "    train_X, train_y = train[:, :-1], train[:, -1]\n",
    "    test_X, test_y = test[:, :-1], test[:, -1]\n",
    "    \n",
    "    return train_X, train_y, test_X, test_y"
   ]
  },
  {
   "cell_type": "code",
   "execution_count": 335,
   "metadata": {},
   "outputs": [],
   "source": [
    "def models(train_X, train_y, test_X, test_y):\n",
    "    # Append the models to the models list\n",
    "    models = []\n",
    "    models.append(('LR' , LogisticRegression()))\n",
    "    models.append(('KNN' , KNeighborsClassifier()))\n",
    "    models.append(('CART' , DecisionTreeClassifier()))\n",
    "    models.append(('NB' , GaussianNB()))\n",
    "    models.append(('SVM' , SVC(random_state=7)))\n",
    "    models.append(('RF' , RandomForestClassifier(n_estimators=150, random_state=7)))\n",
    "    models.append(('XGBoost', XGBClassifier(seed=7)))\n",
    "    \n",
    "    # Evaluate each algorithm for accuracy\n",
    "    results = []\n",
    "    names = []\n",
    "    '''\n",
    "    for name, model in models:\n",
    "        kfold = KFold(n_splits=num_folds, random_state=42)\n",
    "        cv_results = cross_val_score(model, X_train, y_train, cv=kfold, scoring=scoring)\n",
    "        results.append(cv_results)\n",
    "        names.append(name)\n",
    "        msg = \"%s: %f (%f)\" % (name, cv_results.mean(), cv_results.std())\n",
    "        print(msg) '''\n",
    "    \n",
    "    accu_scores = []\n",
    "    recall_scores = []\n",
    "    \n",
    "    for name, model in models:\n",
    "        clf = model\n",
    "        clf.fit(train_X, train_y)\n",
    "        y_pred = clf.predict(test_X)\n",
    "        accu_score = round(accuracy_score(test_y, y_pred),4) *100\n",
    "        accu_scores.append(accu_score) \n",
    "        names.append(name)\n",
    "        recall = recall_score(test_y, y_pred)\n",
    "        recall_scores.append(recall*100)\n",
    "        print(name + \": \" + str(accu_score))\n",
    "\n",
    "    return accu_scores, names, recall_scores\n",
    "    \n",
    "def run_before_opt(df, days):\n",
    "    train_X, train_y, test_X, test_y = train_test_split_own(df, days)\n",
    "    \n",
    "    results, names, recall_scores = models(train_X, train_y, test_X, test_y)\n",
    "    \n",
    "    return results, names, recall_scores"
   ]
  },
  {
   "cell_type": "code",
   "execution_count": 336,
   "metadata": {
    "scrolled": true
   },
   "outputs": [
    {
     "name": "stdout",
     "output_type": "stream",
     "text": [
      "Sentiment data\n",
      "LR: 54.55\n",
      "KNN: 52.7\n",
      "CART: 52.959999999999994\n",
      "NB: 55.60000000000001\n",
      "SVM: 54.15\n",
      "RF: 55.06999999999999\n",
      "XGBoost: 54.02\n",
      "\n",
      "Financial data\n",
      "LR: 56.65\n",
      "KNN: 50.99\n",
      "CART: 49.41\n",
      "NB: 54.55\n",
      "SVM: 54.15\n",
      "RF: 52.959999999999994\n",
      "XGBoost: 56.52\n"
     ]
    },
    {
     "data": {
      "text/html": [
       "<div>\n",
       "<style scoped>\n",
       "    .dataframe tbody tr th:only-of-type {\n",
       "        vertical-align: middle;\n",
       "    }\n",
       "\n",
       "    .dataframe tbody tr th {\n",
       "        vertical-align: top;\n",
       "    }\n",
       "\n",
       "    .dataframe thead th {\n",
       "        text-align: right;\n",
       "    }\n",
       "</style>\n",
       "<table border=\"1\" class=\"dataframe\">\n",
       "  <thead>\n",
       "    <tr style=\"text-align: right;\">\n",
       "      <th></th>\n",
       "      <th>Accuracy Sentiment</th>\n",
       "      <th>Recall Sentiment</th>\n",
       "      <th>Accuracy no Sentiment</th>\n",
       "      <th>Recall no Sentiment</th>\n",
       "      <th>Delta Accuracy</th>\n",
       "      <th>Delta Recall</th>\n",
       "    </tr>\n",
       "  </thead>\n",
       "  <tbody>\n",
       "    <tr>\n",
       "      <th>LR</th>\n",
       "      <td>54.55</td>\n",
       "      <td>14.655172</td>\n",
       "      <td>56.65</td>\n",
       "      <td>17.241379</td>\n",
       "      <td>-2.10</td>\n",
       "      <td>-2.586207</td>\n",
       "    </tr>\n",
       "    <tr>\n",
       "      <th>KNN</th>\n",
       "      <td>52.70</td>\n",
       "      <td>47.701149</td>\n",
       "      <td>50.99</td>\n",
       "      <td>44.252874</td>\n",
       "      <td>1.71</td>\n",
       "      <td>3.448276</td>\n",
       "    </tr>\n",
       "    <tr>\n",
       "      <th>CART</th>\n",
       "      <td>52.96</td>\n",
       "      <td>48.850575</td>\n",
       "      <td>49.41</td>\n",
       "      <td>46.839080</td>\n",
       "      <td>3.55</td>\n",
       "      <td>2.011494</td>\n",
       "    </tr>\n",
       "    <tr>\n",
       "      <th>NB</th>\n",
       "      <td>55.60</td>\n",
       "      <td>24.137931</td>\n",
       "      <td>54.55</td>\n",
       "      <td>27.873563</td>\n",
       "      <td>1.05</td>\n",
       "      <td>-3.735632</td>\n",
       "    </tr>\n",
       "    <tr>\n",
       "      <th>SVM</th>\n",
       "      <td>54.15</td>\n",
       "      <td>0.000000</td>\n",
       "      <td>54.15</td>\n",
       "      <td>0.000000</td>\n",
       "      <td>0.00</td>\n",
       "      <td>0.000000</td>\n",
       "    </tr>\n",
       "    <tr>\n",
       "      <th>RF</th>\n",
       "      <td>55.07</td>\n",
       "      <td>44.827586</td>\n",
       "      <td>52.96</td>\n",
       "      <td>42.528736</td>\n",
       "      <td>2.11</td>\n",
       "      <td>2.298851</td>\n",
       "    </tr>\n",
       "    <tr>\n",
       "      <th>XGBoost</th>\n",
       "      <td>54.02</td>\n",
       "      <td>35.919540</td>\n",
       "      <td>56.52</td>\n",
       "      <td>45.977011</td>\n",
       "      <td>-2.50</td>\n",
       "      <td>-10.057471</td>\n",
       "    </tr>\n",
       "  </tbody>\n",
       "</table>\n",
       "</div>"
      ],
      "text/plain": [
       "         Accuracy Sentiment  Recall Sentiment  Accuracy no Sentiment  \\\n",
       "LR                    54.55         14.655172                  56.65   \n",
       "KNN                   52.70         47.701149                  50.99   \n",
       "CART                  52.96         48.850575                  49.41   \n",
       "NB                    55.60         24.137931                  54.55   \n",
       "SVM                   54.15          0.000000                  54.15   \n",
       "RF                    55.07         44.827586                  52.96   \n",
       "XGBoost               54.02         35.919540                  56.52   \n",
       "\n",
       "         Recall no Sentiment  Delta Accuracy  Delta Recall  \n",
       "LR                 17.241379           -2.10     -2.586207  \n",
       "KNN                44.252874            1.71      3.448276  \n",
       "CART               46.839080            3.55      2.011494  \n",
       "NB                 27.873563            1.05     -3.735632  \n",
       "SVM                 0.000000            0.00      0.000000  \n",
       "RF                 42.528736            2.11      2.298851  \n",
       "XGBoost            45.977011           -2.50    -10.057471  "
      ]
     },
     "execution_count": 336,
     "metadata": {},
     "output_type": "execute_result"
    }
   ],
   "source": [
    "print('Sentiment data')\n",
    "results_sent, names, recall_scores_sent = run_before_opt(model_df, 60)\n",
    "\n",
    "print('')\n",
    "print('Financial data')\n",
    "results_fin, names, recall_scores_fin = run_before_opt(financial_only, 60)\n",
    "\n",
    "delta_accu = []\n",
    "for i in range(0,len(results_sent)):\n",
    "    temp= results_sent[i] - results_fin[i]\n",
    "    delta_accu.append(temp)\n",
    "    \n",
    "delta_recall = []\n",
    "for i in range(0,len(recall_scores_sent)):\n",
    "    temp= recall_scores_sent[i] - recall_scores_fin[i]\n",
    "    delta_recall.append(temp)\n",
    "\n",
    "    \n",
    "col = ['Accuracy Sentiment', 'Recall Sentiment','Accuracy no Sentiment', 'Recall no Sentiment', 'Delta Accuracy', 'Delta Recall']\n",
    "comparison = pd.DataFrame([results_sent, recall_scores_sent, results_fin, recall_scores_fin, delta_accu, delta_recall], columns = names).transpose()\n",
    "comparison.columns = col\n",
    "comparison"
   ]
  },
  {
   "cell_type": "code",
   "execution_count": 329,
   "metadata": {},
   "outputs": [],
   "source": [
    "def feature_importance(df, model, title):\n",
    "    # Feature importance for XGB\n",
    "    features = df.drop('buy_signal', axis = 1).columns.values\n",
    "\n",
    "    x, y = (list(x) for x in zip(*sorted(zip(model.feature_importances_, features), \n",
    "                                                                reverse = False)))\n",
    "    trace2 = go.Bar(\n",
    "        x=x ,\n",
    "        y=y,\n",
    "        marker=dict(\n",
    "            color=x,\n",
    "            colorscale = 'Viridis',\n",
    "            reversescale = True\n",
    "        ),\n",
    "        name='Feature importances for '+ str(title),\n",
    "        orientation='h',\n",
    "    )\n",
    "\n",
    "    layout = dict(\n",
    "        title='Feature importances for '+ str(title),\n",
    "         width = 600, height = 600,\n",
    "        yaxis=dict(\n",
    "            showgrid=False,\n",
    "            showline=False,\n",
    "            showticklabels=True,\n",
    "    #         domain=[0, 0.85],\n",
    "        ))\n",
    "\n",
    "    fig1 = go.Figure(data=[trace2])\n",
    "    fig1['layout'].update(layout)\n",
    "    py.iplot(fig1, filename='plots')\n"
   ]
  },
  {
   "cell_type": "code",
   "execution_count": 330,
   "metadata": {},
   "outputs": [
    {
     "name": "stdout",
     "output_type": "stream",
     "text": [
      "accuracy score:\n",
      "0.5401844532279315\n",
      "recall score:\n",
      "0.35919540229885055\n",
      "confusion matrix: \n",
      "[[285 126]\n",
      " [223 125]]\n",
      "classification report: \n",
      "              precision    recall  f1-score   support\n",
      "\n",
      "         0.0       0.56      0.69      0.62       411\n",
      "         1.0       0.50      0.36      0.42       348\n",
      "\n",
      "   micro avg       0.54      0.54      0.54       759\n",
      "   macro avg       0.53      0.53      0.52       759\n",
      "weighted avg       0.53      0.54      0.53       759\n",
      "\n",
      "RF\n",
      "accuracy score:\n",
      "0.5573122529644269\n",
      "recall:\n",
      "0.4367816091954023\n",
      "confusion matrix: \n",
      "[[271 140]\n",
      " [196 152]]\n",
      "classification report: \n",
      "              precision    recall  f1-score   support\n",
      "\n",
      "         0.0       0.58      0.66      0.62       411\n",
      "         1.0       0.52      0.44      0.48       348\n",
      "\n",
      "   micro avg       0.56      0.56      0.56       759\n",
      "   macro avg       0.55      0.55      0.55       759\n",
      "weighted avg       0.55      0.56      0.55       759\n",
      "\n"
     ]
    },
    {
     "data": {
      "application/vnd.plotly.v1+json": {
       "config": {
        "linkText": "Export to plot.ly",
        "plotlyServerURL": "https://plot.ly",
        "showLink": false
       },
       "data": [
        {
         "marker": {
          "color": [
           0.05280112102627754,
           0.061180539429187775,
           0.06372490525245667,
           0.06772395968437195,
           0.0683053657412529,
           0.06955673545598984,
           0.07347129285335541,
           0.07348433881998062,
           0.07404632121324539,
           0.07414398342370987,
           0.07675463706254959,
           0.07997717708349228,
           0.08205476403236389,
           0.08277489244937897
          ],
          "colorscale": [
           [
            0,
            "#440154"
           ],
           [
            0.1111111111111111,
            "#482878"
           ],
           [
            0.2222222222222222,
            "#3e4989"
           ],
           [
            0.3333333333333333,
            "#31688e"
           ],
           [
            0.4444444444444444,
            "#26828e"
           ],
           [
            0.5555555555555556,
            "#1f9e89"
           ],
           [
            0.6666666666666666,
            "#35b779"
           ],
           [
            0.7777777777777778,
            "#6ece58"
           ],
           [
            0.8888888888888888,
            "#b5de2b"
           ],
           [
            1,
            "#fde725"
           ]
          ],
          "reversescale": true
         },
         "name": "Feature importances for XGB sentiment",
         "orientation": "h",
         "type": "bar",
         "x": [
          0.05280112102627754,
          0.061180539429187775,
          0.06372490525245667,
          0.06772395968437195,
          0.0683053657412529,
          0.06955673545598984,
          0.07347129285335541,
          0.07348433881998062,
          0.07404632121324539,
          0.07414398342370987,
          0.07675463706254959,
          0.07997717708349228,
          0.08205476403236389,
          0.08277489244937897
         ],
         "y": [
          "lag_vol_3h",
          "ma_like_3d",
          "lag_vol_2h",
          "ma_like_7d",
          "compound",
          "ma_compound_3d",
          "lag_vol_1h",
          "lag_returns_3h",
          "like",
          "ma_like_14d",
          "ma_compound_14d",
          "ma_compound_7d",
          "lag_returns_2h",
          "lag_returns_1h"
         ]
        }
       ],
       "layout": {
        "height": 600,
        "template": {
         "data": {
          "bar": [
           {
            "error_x": {
             "color": "#2a3f5f"
            },
            "error_y": {
             "color": "#2a3f5f"
            },
            "marker": {
             "line": {
              "color": "#E5ECF6",
              "width": 0.5
             }
            },
            "type": "bar"
           }
          ],
          "barpolar": [
           {
            "marker": {
             "line": {
              "color": "#E5ECF6",
              "width": 0.5
             }
            },
            "type": "barpolar"
           }
          ],
          "carpet": [
           {
            "aaxis": {
             "endlinecolor": "#2a3f5f",
             "gridcolor": "white",
             "linecolor": "white",
             "minorgridcolor": "white",
             "startlinecolor": "#2a3f5f"
            },
            "baxis": {
             "endlinecolor": "#2a3f5f",
             "gridcolor": "white",
             "linecolor": "white",
             "minorgridcolor": "white",
             "startlinecolor": "#2a3f5f"
            },
            "type": "carpet"
           }
          ],
          "choropleth": [
           {
            "colorbar": {
             "outlinewidth": 0,
             "ticks": ""
            },
            "type": "choropleth"
           }
          ],
          "contour": [
           {
            "colorbar": {
             "outlinewidth": 0,
             "ticks": ""
            },
            "colorscale": [
             [
              0,
              "#0d0887"
             ],
             [
              0.1111111111111111,
              "#46039f"
             ],
             [
              0.2222222222222222,
              "#7201a8"
             ],
             [
              0.3333333333333333,
              "#9c179e"
             ],
             [
              0.4444444444444444,
              "#bd3786"
             ],
             [
              0.5555555555555556,
              "#d8576b"
             ],
             [
              0.6666666666666666,
              "#ed7953"
             ],
             [
              0.7777777777777778,
              "#fb9f3a"
             ],
             [
              0.8888888888888888,
              "#fdca26"
             ],
             [
              1,
              "#f0f921"
             ]
            ],
            "type": "contour"
           }
          ],
          "contourcarpet": [
           {
            "colorbar": {
             "outlinewidth": 0,
             "ticks": ""
            },
            "type": "contourcarpet"
           }
          ],
          "heatmap": [
           {
            "colorbar": {
             "outlinewidth": 0,
             "ticks": ""
            },
            "colorscale": [
             [
              0,
              "#0d0887"
             ],
             [
              0.1111111111111111,
              "#46039f"
             ],
             [
              0.2222222222222222,
              "#7201a8"
             ],
             [
              0.3333333333333333,
              "#9c179e"
             ],
             [
              0.4444444444444444,
              "#bd3786"
             ],
             [
              0.5555555555555556,
              "#d8576b"
             ],
             [
              0.6666666666666666,
              "#ed7953"
             ],
             [
              0.7777777777777778,
              "#fb9f3a"
             ],
             [
              0.8888888888888888,
              "#fdca26"
             ],
             [
              1,
              "#f0f921"
             ]
            ],
            "type": "heatmap"
           }
          ],
          "heatmapgl": [
           {
            "colorbar": {
             "outlinewidth": 0,
             "ticks": ""
            },
            "colorscale": [
             [
              0,
              "#0d0887"
             ],
             [
              0.1111111111111111,
              "#46039f"
             ],
             [
              0.2222222222222222,
              "#7201a8"
             ],
             [
              0.3333333333333333,
              "#9c179e"
             ],
             [
              0.4444444444444444,
              "#bd3786"
             ],
             [
              0.5555555555555556,
              "#d8576b"
             ],
             [
              0.6666666666666666,
              "#ed7953"
             ],
             [
              0.7777777777777778,
              "#fb9f3a"
             ],
             [
              0.8888888888888888,
              "#fdca26"
             ],
             [
              1,
              "#f0f921"
             ]
            ],
            "type": "heatmapgl"
           }
          ],
          "histogram": [
           {
            "marker": {
             "colorbar": {
              "outlinewidth": 0,
              "ticks": ""
             }
            },
            "type": "histogram"
           }
          ],
          "histogram2d": [
           {
            "colorbar": {
             "outlinewidth": 0,
             "ticks": ""
            },
            "colorscale": [
             [
              0,
              "#0d0887"
             ],
             [
              0.1111111111111111,
              "#46039f"
             ],
             [
              0.2222222222222222,
              "#7201a8"
             ],
             [
              0.3333333333333333,
              "#9c179e"
             ],
             [
              0.4444444444444444,
              "#bd3786"
             ],
             [
              0.5555555555555556,
              "#d8576b"
             ],
             [
              0.6666666666666666,
              "#ed7953"
             ],
             [
              0.7777777777777778,
              "#fb9f3a"
             ],
             [
              0.8888888888888888,
              "#fdca26"
             ],
             [
              1,
              "#f0f921"
             ]
            ],
            "type": "histogram2d"
           }
          ],
          "histogram2dcontour": [
           {
            "colorbar": {
             "outlinewidth": 0,
             "ticks": ""
            },
            "colorscale": [
             [
              0,
              "#0d0887"
             ],
             [
              0.1111111111111111,
              "#46039f"
             ],
             [
              0.2222222222222222,
              "#7201a8"
             ],
             [
              0.3333333333333333,
              "#9c179e"
             ],
             [
              0.4444444444444444,
              "#bd3786"
             ],
             [
              0.5555555555555556,
              "#d8576b"
             ],
             [
              0.6666666666666666,
              "#ed7953"
             ],
             [
              0.7777777777777778,
              "#fb9f3a"
             ],
             [
              0.8888888888888888,
              "#fdca26"
             ],
             [
              1,
              "#f0f921"
             ]
            ],
            "type": "histogram2dcontour"
           }
          ],
          "mesh3d": [
           {
            "colorbar": {
             "outlinewidth": 0,
             "ticks": ""
            },
            "type": "mesh3d"
           }
          ],
          "parcoords": [
           {
            "line": {
             "colorbar": {
              "outlinewidth": 0,
              "ticks": ""
             }
            },
            "type": "parcoords"
           }
          ],
          "scatter": [
           {
            "marker": {
             "colorbar": {
              "outlinewidth": 0,
              "ticks": ""
             }
            },
            "type": "scatter"
           }
          ],
          "scatter3d": [
           {
            "line": {
             "colorbar": {
              "outlinewidth": 0,
              "ticks": ""
             }
            },
            "marker": {
             "colorbar": {
              "outlinewidth": 0,
              "ticks": ""
             }
            },
            "type": "scatter3d"
           }
          ],
          "scattercarpet": [
           {
            "marker": {
             "colorbar": {
              "outlinewidth": 0,
              "ticks": ""
             }
            },
            "type": "scattercarpet"
           }
          ],
          "scattergeo": [
           {
            "marker": {
             "colorbar": {
              "outlinewidth": 0,
              "ticks": ""
             }
            },
            "type": "scattergeo"
           }
          ],
          "scattergl": [
           {
            "marker": {
             "colorbar": {
              "outlinewidth": 0,
              "ticks": ""
             }
            },
            "type": "scattergl"
           }
          ],
          "scattermapbox": [
           {
            "marker": {
             "colorbar": {
              "outlinewidth": 0,
              "ticks": ""
             }
            },
            "type": "scattermapbox"
           }
          ],
          "scatterpolar": [
           {
            "marker": {
             "colorbar": {
              "outlinewidth": 0,
              "ticks": ""
             }
            },
            "type": "scatterpolar"
           }
          ],
          "scatterpolargl": [
           {
            "marker": {
             "colorbar": {
              "outlinewidth": 0,
              "ticks": ""
             }
            },
            "type": "scatterpolargl"
           }
          ],
          "scatterternary": [
           {
            "marker": {
             "colorbar": {
              "outlinewidth": 0,
              "ticks": ""
             }
            },
            "type": "scatterternary"
           }
          ],
          "surface": [
           {
            "colorbar": {
             "outlinewidth": 0,
             "ticks": ""
            },
            "colorscale": [
             [
              0,
              "#0d0887"
             ],
             [
              0.1111111111111111,
              "#46039f"
             ],
             [
              0.2222222222222222,
              "#7201a8"
             ],
             [
              0.3333333333333333,
              "#9c179e"
             ],
             [
              0.4444444444444444,
              "#bd3786"
             ],
             [
              0.5555555555555556,
              "#d8576b"
             ],
             [
              0.6666666666666666,
              "#ed7953"
             ],
             [
              0.7777777777777778,
              "#fb9f3a"
             ],
             [
              0.8888888888888888,
              "#fdca26"
             ],
             [
              1,
              "#f0f921"
             ]
            ],
            "type": "surface"
           }
          ],
          "table": [
           {
            "cells": {
             "fill": {
              "color": "#EBF0F8"
             },
             "line": {
              "color": "white"
             }
            },
            "header": {
             "fill": {
              "color": "#C8D4E3"
             },
             "line": {
              "color": "white"
             }
            },
            "type": "table"
           }
          ]
         },
         "layout": {
          "annotationdefaults": {
           "arrowcolor": "#2a3f5f",
           "arrowhead": 0,
           "arrowwidth": 1
          },
          "colorscale": {
           "diverging": [
            [
             0,
             "#8e0152"
            ],
            [
             0.1,
             "#c51b7d"
            ],
            [
             0.2,
             "#de77ae"
            ],
            [
             0.3,
             "#f1b6da"
            ],
            [
             0.4,
             "#fde0ef"
            ],
            [
             0.5,
             "#f7f7f7"
            ],
            [
             0.6,
             "#e6f5d0"
            ],
            [
             0.7,
             "#b8e186"
            ],
            [
             0.8,
             "#7fbc41"
            ],
            [
             0.9,
             "#4d9221"
            ],
            [
             1,
             "#276419"
            ]
           ],
           "sequential": [
            [
             0,
             "#0d0887"
            ],
            [
             0.1111111111111111,
             "#46039f"
            ],
            [
             0.2222222222222222,
             "#7201a8"
            ],
            [
             0.3333333333333333,
             "#9c179e"
            ],
            [
             0.4444444444444444,
             "#bd3786"
            ],
            [
             0.5555555555555556,
             "#d8576b"
            ],
            [
             0.6666666666666666,
             "#ed7953"
            ],
            [
             0.7777777777777778,
             "#fb9f3a"
            ],
            [
             0.8888888888888888,
             "#fdca26"
            ],
            [
             1,
             "#f0f921"
            ]
           ],
           "sequentialminus": [
            [
             0,
             "#0d0887"
            ],
            [
             0.1111111111111111,
             "#46039f"
            ],
            [
             0.2222222222222222,
             "#7201a8"
            ],
            [
             0.3333333333333333,
             "#9c179e"
            ],
            [
             0.4444444444444444,
             "#bd3786"
            ],
            [
             0.5555555555555556,
             "#d8576b"
            ],
            [
             0.6666666666666666,
             "#ed7953"
            ],
            [
             0.7777777777777778,
             "#fb9f3a"
            ],
            [
             0.8888888888888888,
             "#fdca26"
            ],
            [
             1,
             "#f0f921"
            ]
           ]
          },
          "colorway": [
           "#636efa",
           "#EF553B",
           "#00cc96",
           "#ab63fa",
           "#FFA15A",
           "#19d3f3",
           "#FF6692",
           "#B6E880",
           "#FF97FF",
           "#FECB52"
          ],
          "font": {
           "color": "#2a3f5f"
          },
          "geo": {
           "bgcolor": "white",
           "lakecolor": "white",
           "landcolor": "#E5ECF6",
           "showlakes": true,
           "showland": true,
           "subunitcolor": "white"
          },
          "hoverlabel": {
           "align": "left"
          },
          "hovermode": "closest",
          "mapbox": {
           "style": "light"
          },
          "paper_bgcolor": "white",
          "plot_bgcolor": "#E5ECF6",
          "polar": {
           "angularaxis": {
            "gridcolor": "white",
            "linecolor": "white",
            "ticks": ""
           },
           "bgcolor": "#E5ECF6",
           "radialaxis": {
            "gridcolor": "white",
            "linecolor": "white",
            "ticks": ""
           }
          },
          "scene": {
           "xaxis": {
            "backgroundcolor": "#E5ECF6",
            "gridcolor": "white",
            "gridwidth": 2,
            "linecolor": "white",
            "showbackground": true,
            "ticks": "",
            "zerolinecolor": "white"
           },
           "yaxis": {
            "backgroundcolor": "#E5ECF6",
            "gridcolor": "white",
            "gridwidth": 2,
            "linecolor": "white",
            "showbackground": true,
            "ticks": "",
            "zerolinecolor": "white"
           },
           "zaxis": {
            "backgroundcolor": "#E5ECF6",
            "gridcolor": "white",
            "gridwidth": 2,
            "linecolor": "white",
            "showbackground": true,
            "ticks": "",
            "zerolinecolor": "white"
           }
          },
          "shapedefaults": {
           "line": {
            "color": "#2a3f5f"
           }
          },
          "ternary": {
           "aaxis": {
            "gridcolor": "white",
            "linecolor": "white",
            "ticks": ""
           },
           "baxis": {
            "gridcolor": "white",
            "linecolor": "white",
            "ticks": ""
           },
           "bgcolor": "#E5ECF6",
           "caxis": {
            "gridcolor": "white",
            "linecolor": "white",
            "ticks": ""
           }
          },
          "title": {
           "x": 0.05
          },
          "xaxis": {
           "automargin": true,
           "gridcolor": "white",
           "linecolor": "white",
           "ticks": "",
           "zerolinecolor": "white",
           "zerolinewidth": 2
          },
          "yaxis": {
           "automargin": true,
           "gridcolor": "white",
           "linecolor": "white",
           "ticks": "",
           "zerolinecolor": "white",
           "zerolinewidth": 2
          }
         }
        },
        "title": {
         "text": "Feature importances for XGB sentiment"
        },
        "width": 600,
        "yaxis": {
         "showgrid": false,
         "showline": false,
         "showticklabels": true
        }
       }
      },
      "text/html": [
       "<div>\n",
       "        \n",
       "        \n",
       "            <div id=\"ebe3a971-52d6-48f6-b7e7-6cc7d2ae9aa7\" class=\"plotly-graph-div\" style=\"height:600px; width:600px;\"></div>\n",
       "            <script type=\"text/javascript\">\n",
       "                require([\"plotly\"], function(Plotly) {\n",
       "                    window.PLOTLYENV=window.PLOTLYENV || {};\n",
       "                    \n",
       "                if (document.getElementById(\"ebe3a971-52d6-48f6-b7e7-6cc7d2ae9aa7\")) {\n",
       "                    Plotly.newPlot(\n",
       "                        'ebe3a971-52d6-48f6-b7e7-6cc7d2ae9aa7',\n",
       "                        [{\"marker\": {\"color\": [0.05280112102627754, 0.061180539429187775, 0.06372490525245667, 0.06772395968437195, 0.0683053657412529, 0.06955673545598984, 0.07347129285335541, 0.07348433881998062, 0.07404632121324539, 0.07414398342370987, 0.07675463706254959, 0.07997717708349228, 0.08205476403236389, 0.08277489244937897], \"colorscale\": [[0.0, \"#440154\"], [0.1111111111111111, \"#482878\"], [0.2222222222222222, \"#3e4989\"], [0.3333333333333333, \"#31688e\"], [0.4444444444444444, \"#26828e\"], [0.5555555555555556, \"#1f9e89\"], [0.6666666666666666, \"#35b779\"], [0.7777777777777778, \"#6ece58\"], [0.8888888888888888, \"#b5de2b\"], [1.0, \"#fde725\"]], \"reversescale\": true}, \"name\": \"Feature importances for XGB sentiment\", \"orientation\": \"h\", \"type\": \"bar\", \"x\": [0.05280112102627754, 0.061180539429187775, 0.06372490525245667, 0.06772395968437195, 0.0683053657412529, 0.06955673545598984, 0.07347129285335541, 0.07348433881998062, 0.07404632121324539, 0.07414398342370987, 0.07675463706254959, 0.07997717708349228, 0.08205476403236389, 0.08277489244937897], \"y\": [\"lag_vol_3h\", \"ma_like_3d\", \"lag_vol_2h\", \"ma_like_7d\", \"compound\", \"ma_compound_3d\", \"lag_vol_1h\", \"lag_returns_3h\", \"like\", \"ma_like_14d\", \"ma_compound_14d\", \"ma_compound_7d\", \"lag_returns_2h\", \"lag_returns_1h\"]}],\n",
       "                        {\"height\": 600, \"template\": {\"data\": {\"bar\": [{\"error_x\": {\"color\": \"#2a3f5f\"}, \"error_y\": {\"color\": \"#2a3f5f\"}, \"marker\": {\"line\": {\"color\": \"#E5ECF6\", \"width\": 0.5}}, \"type\": \"bar\"}], \"barpolar\": [{\"marker\": {\"line\": {\"color\": \"#E5ECF6\", \"width\": 0.5}}, \"type\": \"barpolar\"}], \"carpet\": [{\"aaxis\": {\"endlinecolor\": \"#2a3f5f\", \"gridcolor\": \"white\", \"linecolor\": \"white\", \"minorgridcolor\": \"white\", \"startlinecolor\": \"#2a3f5f\"}, \"baxis\": {\"endlinecolor\": \"#2a3f5f\", \"gridcolor\": \"white\", \"linecolor\": \"white\", \"minorgridcolor\": \"white\", \"startlinecolor\": \"#2a3f5f\"}, \"type\": \"carpet\"}], \"choropleth\": [{\"colorbar\": {\"outlinewidth\": 0, \"ticks\": \"\"}, \"type\": \"choropleth\"}], \"contour\": [{\"colorbar\": {\"outlinewidth\": 0, \"ticks\": \"\"}, \"colorscale\": [[0.0, \"#0d0887\"], [0.1111111111111111, \"#46039f\"], [0.2222222222222222, \"#7201a8\"], [0.3333333333333333, \"#9c179e\"], [0.4444444444444444, \"#bd3786\"], [0.5555555555555556, \"#d8576b\"], [0.6666666666666666, \"#ed7953\"], [0.7777777777777778, \"#fb9f3a\"], [0.8888888888888888, \"#fdca26\"], [1.0, \"#f0f921\"]], \"type\": \"contour\"}], \"contourcarpet\": [{\"colorbar\": {\"outlinewidth\": 0, \"ticks\": \"\"}, \"type\": \"contourcarpet\"}], \"heatmap\": [{\"colorbar\": {\"outlinewidth\": 0, \"ticks\": \"\"}, \"colorscale\": [[0.0, \"#0d0887\"], [0.1111111111111111, \"#46039f\"], [0.2222222222222222, \"#7201a8\"], [0.3333333333333333, \"#9c179e\"], [0.4444444444444444, \"#bd3786\"], [0.5555555555555556, \"#d8576b\"], [0.6666666666666666, \"#ed7953\"], [0.7777777777777778, \"#fb9f3a\"], [0.8888888888888888, \"#fdca26\"], [1.0, \"#f0f921\"]], \"type\": \"heatmap\"}], \"heatmapgl\": [{\"colorbar\": {\"outlinewidth\": 0, \"ticks\": \"\"}, \"colorscale\": [[0.0, \"#0d0887\"], [0.1111111111111111, \"#46039f\"], [0.2222222222222222, \"#7201a8\"], [0.3333333333333333, \"#9c179e\"], [0.4444444444444444, \"#bd3786\"], [0.5555555555555556, \"#d8576b\"], [0.6666666666666666, \"#ed7953\"], [0.7777777777777778, \"#fb9f3a\"], [0.8888888888888888, \"#fdca26\"], [1.0, \"#f0f921\"]], \"type\": \"heatmapgl\"}], \"histogram\": [{\"marker\": {\"colorbar\": {\"outlinewidth\": 0, \"ticks\": \"\"}}, \"type\": \"histogram\"}], \"histogram2d\": [{\"colorbar\": {\"outlinewidth\": 0, \"ticks\": \"\"}, \"colorscale\": [[0.0, \"#0d0887\"], [0.1111111111111111, \"#46039f\"], [0.2222222222222222, \"#7201a8\"], [0.3333333333333333, \"#9c179e\"], [0.4444444444444444, \"#bd3786\"], [0.5555555555555556, \"#d8576b\"], [0.6666666666666666, \"#ed7953\"], [0.7777777777777778, \"#fb9f3a\"], [0.8888888888888888, \"#fdca26\"], [1.0, \"#f0f921\"]], \"type\": \"histogram2d\"}], \"histogram2dcontour\": [{\"colorbar\": {\"outlinewidth\": 0, \"ticks\": \"\"}, \"colorscale\": [[0.0, \"#0d0887\"], [0.1111111111111111, \"#46039f\"], [0.2222222222222222, \"#7201a8\"], [0.3333333333333333, \"#9c179e\"], [0.4444444444444444, \"#bd3786\"], [0.5555555555555556, \"#d8576b\"], [0.6666666666666666, \"#ed7953\"], [0.7777777777777778, \"#fb9f3a\"], [0.8888888888888888, \"#fdca26\"], [1.0, \"#f0f921\"]], \"type\": \"histogram2dcontour\"}], \"mesh3d\": [{\"colorbar\": {\"outlinewidth\": 0, \"ticks\": \"\"}, \"type\": \"mesh3d\"}], \"parcoords\": [{\"line\": {\"colorbar\": {\"outlinewidth\": 0, \"ticks\": \"\"}}, \"type\": \"parcoords\"}], \"scatter\": [{\"marker\": {\"colorbar\": {\"outlinewidth\": 0, \"ticks\": \"\"}}, \"type\": \"scatter\"}], \"scatter3d\": [{\"line\": {\"colorbar\": {\"outlinewidth\": 0, \"ticks\": \"\"}}, \"marker\": {\"colorbar\": {\"outlinewidth\": 0, \"ticks\": \"\"}}, \"type\": \"scatter3d\"}], \"scattercarpet\": [{\"marker\": {\"colorbar\": {\"outlinewidth\": 0, \"ticks\": \"\"}}, \"type\": \"scattercarpet\"}], \"scattergeo\": [{\"marker\": {\"colorbar\": {\"outlinewidth\": 0, \"ticks\": \"\"}}, \"type\": \"scattergeo\"}], \"scattergl\": [{\"marker\": {\"colorbar\": {\"outlinewidth\": 0, \"ticks\": \"\"}}, \"type\": \"scattergl\"}], \"scattermapbox\": [{\"marker\": {\"colorbar\": {\"outlinewidth\": 0, \"ticks\": \"\"}}, \"type\": \"scattermapbox\"}], \"scatterpolar\": [{\"marker\": {\"colorbar\": {\"outlinewidth\": 0, \"ticks\": \"\"}}, \"type\": \"scatterpolar\"}], \"scatterpolargl\": [{\"marker\": {\"colorbar\": {\"outlinewidth\": 0, \"ticks\": \"\"}}, \"type\": \"scatterpolargl\"}], \"scatterternary\": [{\"marker\": {\"colorbar\": {\"outlinewidth\": 0, \"ticks\": \"\"}}, \"type\": \"scatterternary\"}], \"surface\": [{\"colorbar\": {\"outlinewidth\": 0, \"ticks\": \"\"}, \"colorscale\": [[0.0, \"#0d0887\"], [0.1111111111111111, \"#46039f\"], [0.2222222222222222, \"#7201a8\"], [0.3333333333333333, \"#9c179e\"], [0.4444444444444444, \"#bd3786\"], [0.5555555555555556, \"#d8576b\"], [0.6666666666666666, \"#ed7953\"], [0.7777777777777778, \"#fb9f3a\"], [0.8888888888888888, \"#fdca26\"], [1.0, \"#f0f921\"]], \"type\": \"surface\"}], \"table\": [{\"cells\": {\"fill\": {\"color\": \"#EBF0F8\"}, \"line\": {\"color\": \"white\"}}, \"header\": {\"fill\": {\"color\": \"#C8D4E3\"}, \"line\": {\"color\": \"white\"}}, \"type\": \"table\"}]}, \"layout\": {\"annotationdefaults\": {\"arrowcolor\": \"#2a3f5f\", \"arrowhead\": 0, \"arrowwidth\": 1}, \"colorscale\": {\"diverging\": [[0, \"#8e0152\"], [0.1, \"#c51b7d\"], [0.2, \"#de77ae\"], [0.3, \"#f1b6da\"], [0.4, \"#fde0ef\"], [0.5, \"#f7f7f7\"], [0.6, \"#e6f5d0\"], [0.7, \"#b8e186\"], [0.8, \"#7fbc41\"], [0.9, \"#4d9221\"], [1, \"#276419\"]], \"sequential\": [[0.0, \"#0d0887\"], [0.1111111111111111, \"#46039f\"], [0.2222222222222222, \"#7201a8\"], [0.3333333333333333, \"#9c179e\"], [0.4444444444444444, \"#bd3786\"], [0.5555555555555556, \"#d8576b\"], [0.6666666666666666, \"#ed7953\"], [0.7777777777777778, \"#fb9f3a\"], [0.8888888888888888, \"#fdca26\"], [1.0, \"#f0f921\"]], \"sequentialminus\": [[0.0, \"#0d0887\"], [0.1111111111111111, \"#46039f\"], [0.2222222222222222, \"#7201a8\"], [0.3333333333333333, \"#9c179e\"], [0.4444444444444444, \"#bd3786\"], [0.5555555555555556, \"#d8576b\"], [0.6666666666666666, \"#ed7953\"], [0.7777777777777778, \"#fb9f3a\"], [0.8888888888888888, \"#fdca26\"], [1.0, \"#f0f921\"]]}, \"colorway\": [\"#636efa\", \"#EF553B\", \"#00cc96\", \"#ab63fa\", \"#FFA15A\", \"#19d3f3\", \"#FF6692\", \"#B6E880\", \"#FF97FF\", \"#FECB52\"], \"font\": {\"color\": \"#2a3f5f\"}, \"geo\": {\"bgcolor\": \"white\", \"lakecolor\": \"white\", \"landcolor\": \"#E5ECF6\", \"showlakes\": true, \"showland\": true, \"subunitcolor\": \"white\"}, \"hoverlabel\": {\"align\": \"left\"}, \"hovermode\": \"closest\", \"mapbox\": {\"style\": \"light\"}, \"paper_bgcolor\": \"white\", \"plot_bgcolor\": \"#E5ECF6\", \"polar\": {\"angularaxis\": {\"gridcolor\": \"white\", \"linecolor\": \"white\", \"ticks\": \"\"}, \"bgcolor\": \"#E5ECF6\", \"radialaxis\": {\"gridcolor\": \"white\", \"linecolor\": \"white\", \"ticks\": \"\"}}, \"scene\": {\"xaxis\": {\"backgroundcolor\": \"#E5ECF6\", \"gridcolor\": \"white\", \"gridwidth\": 2, \"linecolor\": \"white\", \"showbackground\": true, \"ticks\": \"\", \"zerolinecolor\": \"white\"}, \"yaxis\": {\"backgroundcolor\": \"#E5ECF6\", \"gridcolor\": \"white\", \"gridwidth\": 2, \"linecolor\": \"white\", \"showbackground\": true, \"ticks\": \"\", \"zerolinecolor\": \"white\"}, \"zaxis\": {\"backgroundcolor\": \"#E5ECF6\", \"gridcolor\": \"white\", \"gridwidth\": 2, \"linecolor\": \"white\", \"showbackground\": true, \"ticks\": \"\", \"zerolinecolor\": \"white\"}}, \"shapedefaults\": {\"line\": {\"color\": \"#2a3f5f\"}}, \"ternary\": {\"aaxis\": {\"gridcolor\": \"white\", \"linecolor\": \"white\", \"ticks\": \"\"}, \"baxis\": {\"gridcolor\": \"white\", \"linecolor\": \"white\", \"ticks\": \"\"}, \"bgcolor\": \"#E5ECF6\", \"caxis\": {\"gridcolor\": \"white\", \"linecolor\": \"white\", \"ticks\": \"\"}}, \"title\": {\"x\": 0.05}, \"xaxis\": {\"automargin\": true, \"gridcolor\": \"white\", \"linecolor\": \"white\", \"ticks\": \"\", \"zerolinecolor\": \"white\", \"zerolinewidth\": 2}, \"yaxis\": {\"automargin\": true, \"gridcolor\": \"white\", \"linecolor\": \"white\", \"ticks\": \"\", \"zerolinecolor\": \"white\", \"zerolinewidth\": 2}}}, \"title\": {\"text\": \"Feature importances for XGB sentiment\"}, \"width\": 600, \"yaxis\": {\"showgrid\": false, \"showline\": false, \"showticklabels\": true}},\n",
       "                        {\"responsive\": true}\n",
       "                    ).then(function(){\n",
       "                            \n",
       "var gd = document.getElementById('ebe3a971-52d6-48f6-b7e7-6cc7d2ae9aa7');\n",
       "var x = new MutationObserver(function (mutations, observer) {{\n",
       "        var display = window.getComputedStyle(gd).display;\n",
       "        if (!display || display === 'none') {{\n",
       "            console.log([gd, 'removed!']);\n",
       "            Plotly.purge(gd);\n",
       "            observer.disconnect();\n",
       "        }}\n",
       "}});\n",
       "\n",
       "// Listen for the removal of the full notebook cells\n",
       "var notebookContainer = gd.closest('#notebook-container');\n",
       "if (notebookContainer) {{\n",
       "    x.observe(notebookContainer, {childList: true});\n",
       "}}\n",
       "\n",
       "// Listen for the clearing of the current output cell\n",
       "var outputEl = gd.closest('.output');\n",
       "if (outputEl) {{\n",
       "    x.observe(outputEl, {childList: true});\n",
       "}}\n",
       "\n",
       "                        })\n",
       "                };\n",
       "                });\n",
       "            </script>\n",
       "        </div>"
      ]
     },
     "metadata": {},
     "output_type": "display_data"
    },
    {
     "data": {
      "application/vnd.plotly.v1+json": {
       "config": {
        "linkText": "Export to plot.ly",
        "plotlyServerURL": "https://plot.ly",
        "showLink": false
       },
       "data": [
        {
         "marker": {
          "color": [
           0.04996635332545334,
           0.05100929845335139,
           0.05800264852533879,
           0.05996732994967874,
           0.06492661912443388,
           0.06531673321140001,
           0.07626594110030005,
           0.07661286821196585,
           0.07706108555603251,
           0.07718101669735576,
           0.08100866348062156,
           0.08540783127713097,
           0.08813781994670111,
           0.08913579114023619
          ],
          "colorscale": [
           [
            0,
            "#440154"
           ],
           [
            0.1111111111111111,
            "#482878"
           ],
           [
            0.2222222222222222,
            "#3e4989"
           ],
           [
            0.3333333333333333,
            "#31688e"
           ],
           [
            0.4444444444444444,
            "#26828e"
           ],
           [
            0.5555555555555556,
            "#1f9e89"
           ],
           [
            0.6666666666666666,
            "#35b779"
           ],
           [
            0.7777777777777778,
            "#6ece58"
           ],
           [
            0.8888888888888888,
            "#b5de2b"
           ],
           [
            1,
            "#fde725"
           ]
          ],
          "reversescale": true
         },
         "name": "Feature importances for Random Forest Sentiment",
         "orientation": "h",
         "type": "bar",
         "x": [
          0.04996635332545334,
          0.05100929845335139,
          0.05800264852533879,
          0.05996732994967874,
          0.06492661912443388,
          0.06531673321140001,
          0.07626594110030005,
          0.07661286821196585,
          0.07706108555603251,
          0.07718101669735576,
          0.08100866348062156,
          0.08540783127713097,
          0.08813781994670111,
          0.08913579114023619
         ],
         "y": [
          "ma_compound_14d",
          "ma_like_14d",
          "ma_like_7d",
          "ma_compound_7d",
          "ma_like_3d",
          "ma_compound_3d",
          "compound",
          "lag_vol_2h",
          "lag_vol_1h",
          "lag_vol_3h",
          "like",
          "lag_returns_3h",
          "lag_returns_1h",
          "lag_returns_2h"
         ]
        }
       ],
       "layout": {
        "height": 600,
        "template": {
         "data": {
          "bar": [
           {
            "error_x": {
             "color": "#2a3f5f"
            },
            "error_y": {
             "color": "#2a3f5f"
            },
            "marker": {
             "line": {
              "color": "#E5ECF6",
              "width": 0.5
             }
            },
            "type": "bar"
           }
          ],
          "barpolar": [
           {
            "marker": {
             "line": {
              "color": "#E5ECF6",
              "width": 0.5
             }
            },
            "type": "barpolar"
           }
          ],
          "carpet": [
           {
            "aaxis": {
             "endlinecolor": "#2a3f5f",
             "gridcolor": "white",
             "linecolor": "white",
             "minorgridcolor": "white",
             "startlinecolor": "#2a3f5f"
            },
            "baxis": {
             "endlinecolor": "#2a3f5f",
             "gridcolor": "white",
             "linecolor": "white",
             "minorgridcolor": "white",
             "startlinecolor": "#2a3f5f"
            },
            "type": "carpet"
           }
          ],
          "choropleth": [
           {
            "colorbar": {
             "outlinewidth": 0,
             "ticks": ""
            },
            "type": "choropleth"
           }
          ],
          "contour": [
           {
            "colorbar": {
             "outlinewidth": 0,
             "ticks": ""
            },
            "colorscale": [
             [
              0,
              "#0d0887"
             ],
             [
              0.1111111111111111,
              "#46039f"
             ],
             [
              0.2222222222222222,
              "#7201a8"
             ],
             [
              0.3333333333333333,
              "#9c179e"
             ],
             [
              0.4444444444444444,
              "#bd3786"
             ],
             [
              0.5555555555555556,
              "#d8576b"
             ],
             [
              0.6666666666666666,
              "#ed7953"
             ],
             [
              0.7777777777777778,
              "#fb9f3a"
             ],
             [
              0.8888888888888888,
              "#fdca26"
             ],
             [
              1,
              "#f0f921"
             ]
            ],
            "type": "contour"
           }
          ],
          "contourcarpet": [
           {
            "colorbar": {
             "outlinewidth": 0,
             "ticks": ""
            },
            "type": "contourcarpet"
           }
          ],
          "heatmap": [
           {
            "colorbar": {
             "outlinewidth": 0,
             "ticks": ""
            },
            "colorscale": [
             [
              0,
              "#0d0887"
             ],
             [
              0.1111111111111111,
              "#46039f"
             ],
             [
              0.2222222222222222,
              "#7201a8"
             ],
             [
              0.3333333333333333,
              "#9c179e"
             ],
             [
              0.4444444444444444,
              "#bd3786"
             ],
             [
              0.5555555555555556,
              "#d8576b"
             ],
             [
              0.6666666666666666,
              "#ed7953"
             ],
             [
              0.7777777777777778,
              "#fb9f3a"
             ],
             [
              0.8888888888888888,
              "#fdca26"
             ],
             [
              1,
              "#f0f921"
             ]
            ],
            "type": "heatmap"
           }
          ],
          "heatmapgl": [
           {
            "colorbar": {
             "outlinewidth": 0,
             "ticks": ""
            },
            "colorscale": [
             [
              0,
              "#0d0887"
             ],
             [
              0.1111111111111111,
              "#46039f"
             ],
             [
              0.2222222222222222,
              "#7201a8"
             ],
             [
              0.3333333333333333,
              "#9c179e"
             ],
             [
              0.4444444444444444,
              "#bd3786"
             ],
             [
              0.5555555555555556,
              "#d8576b"
             ],
             [
              0.6666666666666666,
              "#ed7953"
             ],
             [
              0.7777777777777778,
              "#fb9f3a"
             ],
             [
              0.8888888888888888,
              "#fdca26"
             ],
             [
              1,
              "#f0f921"
             ]
            ],
            "type": "heatmapgl"
           }
          ],
          "histogram": [
           {
            "marker": {
             "colorbar": {
              "outlinewidth": 0,
              "ticks": ""
             }
            },
            "type": "histogram"
           }
          ],
          "histogram2d": [
           {
            "colorbar": {
             "outlinewidth": 0,
             "ticks": ""
            },
            "colorscale": [
             [
              0,
              "#0d0887"
             ],
             [
              0.1111111111111111,
              "#46039f"
             ],
             [
              0.2222222222222222,
              "#7201a8"
             ],
             [
              0.3333333333333333,
              "#9c179e"
             ],
             [
              0.4444444444444444,
              "#bd3786"
             ],
             [
              0.5555555555555556,
              "#d8576b"
             ],
             [
              0.6666666666666666,
              "#ed7953"
             ],
             [
              0.7777777777777778,
              "#fb9f3a"
             ],
             [
              0.8888888888888888,
              "#fdca26"
             ],
             [
              1,
              "#f0f921"
             ]
            ],
            "type": "histogram2d"
           }
          ],
          "histogram2dcontour": [
           {
            "colorbar": {
             "outlinewidth": 0,
             "ticks": ""
            },
            "colorscale": [
             [
              0,
              "#0d0887"
             ],
             [
              0.1111111111111111,
              "#46039f"
             ],
             [
              0.2222222222222222,
              "#7201a8"
             ],
             [
              0.3333333333333333,
              "#9c179e"
             ],
             [
              0.4444444444444444,
              "#bd3786"
             ],
             [
              0.5555555555555556,
              "#d8576b"
             ],
             [
              0.6666666666666666,
              "#ed7953"
             ],
             [
              0.7777777777777778,
              "#fb9f3a"
             ],
             [
              0.8888888888888888,
              "#fdca26"
             ],
             [
              1,
              "#f0f921"
             ]
            ],
            "type": "histogram2dcontour"
           }
          ],
          "mesh3d": [
           {
            "colorbar": {
             "outlinewidth": 0,
             "ticks": ""
            },
            "type": "mesh3d"
           }
          ],
          "parcoords": [
           {
            "line": {
             "colorbar": {
              "outlinewidth": 0,
              "ticks": ""
             }
            },
            "type": "parcoords"
           }
          ],
          "scatter": [
           {
            "marker": {
             "colorbar": {
              "outlinewidth": 0,
              "ticks": ""
             }
            },
            "type": "scatter"
           }
          ],
          "scatter3d": [
           {
            "line": {
             "colorbar": {
              "outlinewidth": 0,
              "ticks": ""
             }
            },
            "marker": {
             "colorbar": {
              "outlinewidth": 0,
              "ticks": ""
             }
            },
            "type": "scatter3d"
           }
          ],
          "scattercarpet": [
           {
            "marker": {
             "colorbar": {
              "outlinewidth": 0,
              "ticks": ""
             }
            },
            "type": "scattercarpet"
           }
          ],
          "scattergeo": [
           {
            "marker": {
             "colorbar": {
              "outlinewidth": 0,
              "ticks": ""
             }
            },
            "type": "scattergeo"
           }
          ],
          "scattergl": [
           {
            "marker": {
             "colorbar": {
              "outlinewidth": 0,
              "ticks": ""
             }
            },
            "type": "scattergl"
           }
          ],
          "scattermapbox": [
           {
            "marker": {
             "colorbar": {
              "outlinewidth": 0,
              "ticks": ""
             }
            },
            "type": "scattermapbox"
           }
          ],
          "scatterpolar": [
           {
            "marker": {
             "colorbar": {
              "outlinewidth": 0,
              "ticks": ""
             }
            },
            "type": "scatterpolar"
           }
          ],
          "scatterpolargl": [
           {
            "marker": {
             "colorbar": {
              "outlinewidth": 0,
              "ticks": ""
             }
            },
            "type": "scatterpolargl"
           }
          ],
          "scatterternary": [
           {
            "marker": {
             "colorbar": {
              "outlinewidth": 0,
              "ticks": ""
             }
            },
            "type": "scatterternary"
           }
          ],
          "surface": [
           {
            "colorbar": {
             "outlinewidth": 0,
             "ticks": ""
            },
            "colorscale": [
             [
              0,
              "#0d0887"
             ],
             [
              0.1111111111111111,
              "#46039f"
             ],
             [
              0.2222222222222222,
              "#7201a8"
             ],
             [
              0.3333333333333333,
              "#9c179e"
             ],
             [
              0.4444444444444444,
              "#bd3786"
             ],
             [
              0.5555555555555556,
              "#d8576b"
             ],
             [
              0.6666666666666666,
              "#ed7953"
             ],
             [
              0.7777777777777778,
              "#fb9f3a"
             ],
             [
              0.8888888888888888,
              "#fdca26"
             ],
             [
              1,
              "#f0f921"
             ]
            ],
            "type": "surface"
           }
          ],
          "table": [
           {
            "cells": {
             "fill": {
              "color": "#EBF0F8"
             },
             "line": {
              "color": "white"
             }
            },
            "header": {
             "fill": {
              "color": "#C8D4E3"
             },
             "line": {
              "color": "white"
             }
            },
            "type": "table"
           }
          ]
         },
         "layout": {
          "annotationdefaults": {
           "arrowcolor": "#2a3f5f",
           "arrowhead": 0,
           "arrowwidth": 1
          },
          "colorscale": {
           "diverging": [
            [
             0,
             "#8e0152"
            ],
            [
             0.1,
             "#c51b7d"
            ],
            [
             0.2,
             "#de77ae"
            ],
            [
             0.3,
             "#f1b6da"
            ],
            [
             0.4,
             "#fde0ef"
            ],
            [
             0.5,
             "#f7f7f7"
            ],
            [
             0.6,
             "#e6f5d0"
            ],
            [
             0.7,
             "#b8e186"
            ],
            [
             0.8,
             "#7fbc41"
            ],
            [
             0.9,
             "#4d9221"
            ],
            [
             1,
             "#276419"
            ]
           ],
           "sequential": [
            [
             0,
             "#0d0887"
            ],
            [
             0.1111111111111111,
             "#46039f"
            ],
            [
             0.2222222222222222,
             "#7201a8"
            ],
            [
             0.3333333333333333,
             "#9c179e"
            ],
            [
             0.4444444444444444,
             "#bd3786"
            ],
            [
             0.5555555555555556,
             "#d8576b"
            ],
            [
             0.6666666666666666,
             "#ed7953"
            ],
            [
             0.7777777777777778,
             "#fb9f3a"
            ],
            [
             0.8888888888888888,
             "#fdca26"
            ],
            [
             1,
             "#f0f921"
            ]
           ],
           "sequentialminus": [
            [
             0,
             "#0d0887"
            ],
            [
             0.1111111111111111,
             "#46039f"
            ],
            [
             0.2222222222222222,
             "#7201a8"
            ],
            [
             0.3333333333333333,
             "#9c179e"
            ],
            [
             0.4444444444444444,
             "#bd3786"
            ],
            [
             0.5555555555555556,
             "#d8576b"
            ],
            [
             0.6666666666666666,
             "#ed7953"
            ],
            [
             0.7777777777777778,
             "#fb9f3a"
            ],
            [
             0.8888888888888888,
             "#fdca26"
            ],
            [
             1,
             "#f0f921"
            ]
           ]
          },
          "colorway": [
           "#636efa",
           "#EF553B",
           "#00cc96",
           "#ab63fa",
           "#FFA15A",
           "#19d3f3",
           "#FF6692",
           "#B6E880",
           "#FF97FF",
           "#FECB52"
          ],
          "font": {
           "color": "#2a3f5f"
          },
          "geo": {
           "bgcolor": "white",
           "lakecolor": "white",
           "landcolor": "#E5ECF6",
           "showlakes": true,
           "showland": true,
           "subunitcolor": "white"
          },
          "hoverlabel": {
           "align": "left"
          },
          "hovermode": "closest",
          "mapbox": {
           "style": "light"
          },
          "paper_bgcolor": "white",
          "plot_bgcolor": "#E5ECF6",
          "polar": {
           "angularaxis": {
            "gridcolor": "white",
            "linecolor": "white",
            "ticks": ""
           },
           "bgcolor": "#E5ECF6",
           "radialaxis": {
            "gridcolor": "white",
            "linecolor": "white",
            "ticks": ""
           }
          },
          "scene": {
           "xaxis": {
            "backgroundcolor": "#E5ECF6",
            "gridcolor": "white",
            "gridwidth": 2,
            "linecolor": "white",
            "showbackground": true,
            "ticks": "",
            "zerolinecolor": "white"
           },
           "yaxis": {
            "backgroundcolor": "#E5ECF6",
            "gridcolor": "white",
            "gridwidth": 2,
            "linecolor": "white",
            "showbackground": true,
            "ticks": "",
            "zerolinecolor": "white"
           },
           "zaxis": {
            "backgroundcolor": "#E5ECF6",
            "gridcolor": "white",
            "gridwidth": 2,
            "linecolor": "white",
            "showbackground": true,
            "ticks": "",
            "zerolinecolor": "white"
           }
          },
          "shapedefaults": {
           "line": {
            "color": "#2a3f5f"
           }
          },
          "ternary": {
           "aaxis": {
            "gridcolor": "white",
            "linecolor": "white",
            "ticks": ""
           },
           "baxis": {
            "gridcolor": "white",
            "linecolor": "white",
            "ticks": ""
           },
           "bgcolor": "#E5ECF6",
           "caxis": {
            "gridcolor": "white",
            "linecolor": "white",
            "ticks": ""
           }
          },
          "title": {
           "x": 0.05
          },
          "xaxis": {
           "automargin": true,
           "gridcolor": "white",
           "linecolor": "white",
           "ticks": "",
           "zerolinecolor": "white",
           "zerolinewidth": 2
          },
          "yaxis": {
           "automargin": true,
           "gridcolor": "white",
           "linecolor": "white",
           "ticks": "",
           "zerolinecolor": "white",
           "zerolinewidth": 2
          }
         }
        },
        "title": {
         "text": "Feature importances for Random Forest Sentiment"
        },
        "width": 600,
        "yaxis": {
         "showgrid": false,
         "showline": false,
         "showticklabels": true
        }
       }
      },
      "text/html": [
       "<div>\n",
       "        \n",
       "        \n",
       "            <div id=\"54d5ed07-a3fd-4886-a421-f206e3c7bd3e\" class=\"plotly-graph-div\" style=\"height:600px; width:600px;\"></div>\n",
       "            <script type=\"text/javascript\">\n",
       "                require([\"plotly\"], function(Plotly) {\n",
       "                    window.PLOTLYENV=window.PLOTLYENV || {};\n",
       "                    \n",
       "                if (document.getElementById(\"54d5ed07-a3fd-4886-a421-f206e3c7bd3e\")) {\n",
       "                    Plotly.newPlot(\n",
       "                        '54d5ed07-a3fd-4886-a421-f206e3c7bd3e',\n",
       "                        [{\"marker\": {\"color\": [0.04996635332545334, 0.05100929845335139, 0.05800264852533879, 0.05996732994967874, 0.06492661912443388, 0.06531673321140001, 0.07626594110030005, 0.07661286821196585, 0.07706108555603251, 0.07718101669735576, 0.08100866348062156, 0.08540783127713097, 0.08813781994670111, 0.08913579114023619], \"colorscale\": [[0.0, \"#440154\"], [0.1111111111111111, \"#482878\"], [0.2222222222222222, \"#3e4989\"], [0.3333333333333333, \"#31688e\"], [0.4444444444444444, \"#26828e\"], [0.5555555555555556, \"#1f9e89\"], [0.6666666666666666, \"#35b779\"], [0.7777777777777778, \"#6ece58\"], [0.8888888888888888, \"#b5de2b\"], [1.0, \"#fde725\"]], \"reversescale\": true}, \"name\": \"Feature importances for Random Forest Sentiment\", \"orientation\": \"h\", \"type\": \"bar\", \"x\": [0.04996635332545334, 0.05100929845335139, 0.05800264852533879, 0.05996732994967874, 0.06492661912443388, 0.06531673321140001, 0.07626594110030005, 0.07661286821196585, 0.07706108555603251, 0.07718101669735576, 0.08100866348062156, 0.08540783127713097, 0.08813781994670111, 0.08913579114023619], \"y\": [\"ma_compound_14d\", \"ma_like_14d\", \"ma_like_7d\", \"ma_compound_7d\", \"ma_like_3d\", \"ma_compound_3d\", \"compound\", \"lag_vol_2h\", \"lag_vol_1h\", \"lag_vol_3h\", \"like\", \"lag_returns_3h\", \"lag_returns_1h\", \"lag_returns_2h\"]}],\n",
       "                        {\"height\": 600, \"template\": {\"data\": {\"bar\": [{\"error_x\": {\"color\": \"#2a3f5f\"}, \"error_y\": {\"color\": \"#2a3f5f\"}, \"marker\": {\"line\": {\"color\": \"#E5ECF6\", \"width\": 0.5}}, \"type\": \"bar\"}], \"barpolar\": [{\"marker\": {\"line\": {\"color\": \"#E5ECF6\", \"width\": 0.5}}, \"type\": \"barpolar\"}], \"carpet\": [{\"aaxis\": {\"endlinecolor\": \"#2a3f5f\", \"gridcolor\": \"white\", \"linecolor\": \"white\", \"minorgridcolor\": \"white\", \"startlinecolor\": \"#2a3f5f\"}, \"baxis\": {\"endlinecolor\": \"#2a3f5f\", \"gridcolor\": \"white\", \"linecolor\": \"white\", \"minorgridcolor\": \"white\", \"startlinecolor\": \"#2a3f5f\"}, \"type\": \"carpet\"}], \"choropleth\": [{\"colorbar\": {\"outlinewidth\": 0, \"ticks\": \"\"}, \"type\": \"choropleth\"}], \"contour\": [{\"colorbar\": {\"outlinewidth\": 0, \"ticks\": \"\"}, \"colorscale\": [[0.0, \"#0d0887\"], [0.1111111111111111, \"#46039f\"], [0.2222222222222222, \"#7201a8\"], [0.3333333333333333, \"#9c179e\"], [0.4444444444444444, \"#bd3786\"], [0.5555555555555556, \"#d8576b\"], [0.6666666666666666, \"#ed7953\"], [0.7777777777777778, \"#fb9f3a\"], [0.8888888888888888, \"#fdca26\"], [1.0, \"#f0f921\"]], \"type\": \"contour\"}], \"contourcarpet\": [{\"colorbar\": {\"outlinewidth\": 0, \"ticks\": \"\"}, \"type\": \"contourcarpet\"}], \"heatmap\": [{\"colorbar\": {\"outlinewidth\": 0, \"ticks\": \"\"}, \"colorscale\": [[0.0, \"#0d0887\"], [0.1111111111111111, \"#46039f\"], [0.2222222222222222, \"#7201a8\"], [0.3333333333333333, \"#9c179e\"], [0.4444444444444444, \"#bd3786\"], [0.5555555555555556, \"#d8576b\"], [0.6666666666666666, \"#ed7953\"], [0.7777777777777778, \"#fb9f3a\"], [0.8888888888888888, \"#fdca26\"], [1.0, \"#f0f921\"]], \"type\": \"heatmap\"}], \"heatmapgl\": [{\"colorbar\": {\"outlinewidth\": 0, \"ticks\": \"\"}, \"colorscale\": [[0.0, \"#0d0887\"], [0.1111111111111111, \"#46039f\"], [0.2222222222222222, \"#7201a8\"], [0.3333333333333333, \"#9c179e\"], [0.4444444444444444, \"#bd3786\"], [0.5555555555555556, \"#d8576b\"], [0.6666666666666666, \"#ed7953\"], [0.7777777777777778, \"#fb9f3a\"], [0.8888888888888888, \"#fdca26\"], [1.0, \"#f0f921\"]], \"type\": \"heatmapgl\"}], \"histogram\": [{\"marker\": {\"colorbar\": {\"outlinewidth\": 0, \"ticks\": \"\"}}, \"type\": \"histogram\"}], \"histogram2d\": [{\"colorbar\": {\"outlinewidth\": 0, \"ticks\": \"\"}, \"colorscale\": [[0.0, \"#0d0887\"], [0.1111111111111111, \"#46039f\"], [0.2222222222222222, \"#7201a8\"], [0.3333333333333333, \"#9c179e\"], [0.4444444444444444, \"#bd3786\"], [0.5555555555555556, \"#d8576b\"], [0.6666666666666666, \"#ed7953\"], [0.7777777777777778, \"#fb9f3a\"], [0.8888888888888888, \"#fdca26\"], [1.0, \"#f0f921\"]], \"type\": \"histogram2d\"}], \"histogram2dcontour\": [{\"colorbar\": {\"outlinewidth\": 0, \"ticks\": \"\"}, \"colorscale\": [[0.0, \"#0d0887\"], [0.1111111111111111, \"#46039f\"], [0.2222222222222222, \"#7201a8\"], [0.3333333333333333, \"#9c179e\"], [0.4444444444444444, \"#bd3786\"], [0.5555555555555556, \"#d8576b\"], [0.6666666666666666, \"#ed7953\"], [0.7777777777777778, \"#fb9f3a\"], [0.8888888888888888, \"#fdca26\"], [1.0, \"#f0f921\"]], \"type\": \"histogram2dcontour\"}], \"mesh3d\": [{\"colorbar\": {\"outlinewidth\": 0, \"ticks\": \"\"}, \"type\": \"mesh3d\"}], \"parcoords\": [{\"line\": {\"colorbar\": {\"outlinewidth\": 0, \"ticks\": \"\"}}, \"type\": \"parcoords\"}], \"scatter\": [{\"marker\": {\"colorbar\": {\"outlinewidth\": 0, \"ticks\": \"\"}}, \"type\": \"scatter\"}], \"scatter3d\": [{\"line\": {\"colorbar\": {\"outlinewidth\": 0, \"ticks\": \"\"}}, \"marker\": {\"colorbar\": {\"outlinewidth\": 0, \"ticks\": \"\"}}, \"type\": \"scatter3d\"}], \"scattercarpet\": [{\"marker\": {\"colorbar\": {\"outlinewidth\": 0, \"ticks\": \"\"}}, \"type\": \"scattercarpet\"}], \"scattergeo\": [{\"marker\": {\"colorbar\": {\"outlinewidth\": 0, \"ticks\": \"\"}}, \"type\": \"scattergeo\"}], \"scattergl\": [{\"marker\": {\"colorbar\": {\"outlinewidth\": 0, \"ticks\": \"\"}}, \"type\": \"scattergl\"}], \"scattermapbox\": [{\"marker\": {\"colorbar\": {\"outlinewidth\": 0, \"ticks\": \"\"}}, \"type\": \"scattermapbox\"}], \"scatterpolar\": [{\"marker\": {\"colorbar\": {\"outlinewidth\": 0, \"ticks\": \"\"}}, \"type\": \"scatterpolar\"}], \"scatterpolargl\": [{\"marker\": {\"colorbar\": {\"outlinewidth\": 0, \"ticks\": \"\"}}, \"type\": \"scatterpolargl\"}], \"scatterternary\": [{\"marker\": {\"colorbar\": {\"outlinewidth\": 0, \"ticks\": \"\"}}, \"type\": \"scatterternary\"}], \"surface\": [{\"colorbar\": {\"outlinewidth\": 0, \"ticks\": \"\"}, \"colorscale\": [[0.0, \"#0d0887\"], [0.1111111111111111, \"#46039f\"], [0.2222222222222222, \"#7201a8\"], [0.3333333333333333, \"#9c179e\"], [0.4444444444444444, \"#bd3786\"], [0.5555555555555556, \"#d8576b\"], [0.6666666666666666, \"#ed7953\"], [0.7777777777777778, \"#fb9f3a\"], [0.8888888888888888, \"#fdca26\"], [1.0, \"#f0f921\"]], \"type\": \"surface\"}], \"table\": [{\"cells\": {\"fill\": {\"color\": \"#EBF0F8\"}, \"line\": {\"color\": \"white\"}}, \"header\": {\"fill\": {\"color\": \"#C8D4E3\"}, \"line\": {\"color\": \"white\"}}, \"type\": \"table\"}]}, \"layout\": {\"annotationdefaults\": {\"arrowcolor\": \"#2a3f5f\", \"arrowhead\": 0, \"arrowwidth\": 1}, \"colorscale\": {\"diverging\": [[0, \"#8e0152\"], [0.1, \"#c51b7d\"], [0.2, \"#de77ae\"], [0.3, \"#f1b6da\"], [0.4, \"#fde0ef\"], [0.5, \"#f7f7f7\"], [0.6, \"#e6f5d0\"], [0.7, \"#b8e186\"], [0.8, \"#7fbc41\"], [0.9, \"#4d9221\"], [1, \"#276419\"]], \"sequential\": [[0.0, \"#0d0887\"], [0.1111111111111111, \"#46039f\"], [0.2222222222222222, \"#7201a8\"], [0.3333333333333333, \"#9c179e\"], [0.4444444444444444, \"#bd3786\"], [0.5555555555555556, \"#d8576b\"], [0.6666666666666666, \"#ed7953\"], [0.7777777777777778, \"#fb9f3a\"], [0.8888888888888888, \"#fdca26\"], [1.0, \"#f0f921\"]], \"sequentialminus\": [[0.0, \"#0d0887\"], [0.1111111111111111, \"#46039f\"], [0.2222222222222222, \"#7201a8\"], [0.3333333333333333, \"#9c179e\"], [0.4444444444444444, \"#bd3786\"], [0.5555555555555556, \"#d8576b\"], [0.6666666666666666, \"#ed7953\"], [0.7777777777777778, \"#fb9f3a\"], [0.8888888888888888, \"#fdca26\"], [1.0, \"#f0f921\"]]}, \"colorway\": [\"#636efa\", \"#EF553B\", \"#00cc96\", \"#ab63fa\", \"#FFA15A\", \"#19d3f3\", \"#FF6692\", \"#B6E880\", \"#FF97FF\", \"#FECB52\"], \"font\": {\"color\": \"#2a3f5f\"}, \"geo\": {\"bgcolor\": \"white\", \"lakecolor\": \"white\", \"landcolor\": \"#E5ECF6\", \"showlakes\": true, \"showland\": true, \"subunitcolor\": \"white\"}, \"hoverlabel\": {\"align\": \"left\"}, \"hovermode\": \"closest\", \"mapbox\": {\"style\": \"light\"}, \"paper_bgcolor\": \"white\", \"plot_bgcolor\": \"#E5ECF6\", \"polar\": {\"angularaxis\": {\"gridcolor\": \"white\", \"linecolor\": \"white\", \"ticks\": \"\"}, \"bgcolor\": \"#E5ECF6\", \"radialaxis\": {\"gridcolor\": \"white\", \"linecolor\": \"white\", \"ticks\": \"\"}}, \"scene\": {\"xaxis\": {\"backgroundcolor\": \"#E5ECF6\", \"gridcolor\": \"white\", \"gridwidth\": 2, \"linecolor\": \"white\", \"showbackground\": true, \"ticks\": \"\", \"zerolinecolor\": \"white\"}, \"yaxis\": {\"backgroundcolor\": \"#E5ECF6\", \"gridcolor\": \"white\", \"gridwidth\": 2, \"linecolor\": \"white\", \"showbackground\": true, \"ticks\": \"\", \"zerolinecolor\": \"white\"}, \"zaxis\": {\"backgroundcolor\": \"#E5ECF6\", \"gridcolor\": \"white\", \"gridwidth\": 2, \"linecolor\": \"white\", \"showbackground\": true, \"ticks\": \"\", \"zerolinecolor\": \"white\"}}, \"shapedefaults\": {\"line\": {\"color\": \"#2a3f5f\"}}, \"ternary\": {\"aaxis\": {\"gridcolor\": \"white\", \"linecolor\": \"white\", \"ticks\": \"\"}, \"baxis\": {\"gridcolor\": \"white\", \"linecolor\": \"white\", \"ticks\": \"\"}, \"bgcolor\": \"#E5ECF6\", \"caxis\": {\"gridcolor\": \"white\", \"linecolor\": \"white\", \"ticks\": \"\"}}, \"title\": {\"x\": 0.05}, \"xaxis\": {\"automargin\": true, \"gridcolor\": \"white\", \"linecolor\": \"white\", \"ticks\": \"\", \"zerolinecolor\": \"white\", \"zerolinewidth\": 2}, \"yaxis\": {\"automargin\": true, \"gridcolor\": \"white\", \"linecolor\": \"white\", \"ticks\": \"\", \"zerolinecolor\": \"white\", \"zerolinewidth\": 2}}}, \"title\": {\"text\": \"Feature importances for Random Forest Sentiment\"}, \"width\": 600, \"yaxis\": {\"showgrid\": false, \"showline\": false, \"showticklabels\": true}},\n",
       "                        {\"responsive\": true}\n",
       "                    ).then(function(){\n",
       "                            \n",
       "var gd = document.getElementById('54d5ed07-a3fd-4886-a421-f206e3c7bd3e');\n",
       "var x = new MutationObserver(function (mutations, observer) {{\n",
       "        var display = window.getComputedStyle(gd).display;\n",
       "        if (!display || display === 'none') {{\n",
       "            console.log([gd, 'removed!']);\n",
       "            Plotly.purge(gd);\n",
       "            observer.disconnect();\n",
       "        }}\n",
       "}});\n",
       "\n",
       "// Listen for the removal of the full notebook cells\n",
       "var notebookContainer = gd.closest('#notebook-container');\n",
       "if (notebookContainer) {{\n",
       "    x.observe(notebookContainer, {childList: true});\n",
       "}}\n",
       "\n",
       "// Listen for the clearing of the current output cell\n",
       "var outputEl = gd.closest('.output');\n",
       "if (outputEl) {{\n",
       "    x.observe(outputEl, {childList: true});\n",
       "}}\n",
       "\n",
       "                        })\n",
       "                };\n",
       "                });\n",
       "            </script>\n",
       "        </div>"
      ]
     },
     "metadata": {},
     "output_type": "display_data"
    }
   ],
   "source": [
    "X_train, y_train, X_test, y_test = train_test_split_own(model_df, 60)\n",
    "\n",
    "# scale the data\n",
    "scaler = StandardScaler().fit(X_train)\n",
    "rescaledX = scaler.transform(X_train)\n",
    "\n",
    "# Scaled XGB\n",
    "\n",
    "model_xgb = XGBClassifier()\n",
    "model_xgb.fit(rescaledX, y_train)\n",
    "# estimate accuracy on validation dataset\n",
    "rescaledValidationX = scaler.transform(X_test)\n",
    "predictions = model_xgb.predict(rescaledValidationX)\n",
    "print(\"accuracy score:\")\n",
    "print(accuracy_score(y_test, predictions))\n",
    "print(\"recall score:\")\n",
    "print(recall_score(y_test, predictions))\n",
    "print(\"confusion matrix: \")\n",
    "print(confusion_matrix(y_test, predictions))\n",
    "print(\"classification report: \")\n",
    "print(classification_report(y_test, predictions))\n",
    "\n",
    "\n",
    "# Scaling Random Forests\n",
    "print('RF')\n",
    "model_rf = RandomForestClassifier(n_estimators=1000)\n",
    "model_rf.fit(rescaledX, y_train)\n",
    "# estimate accuracy on validation dataset\n",
    "rescaledValidationX = scaler.transform(X_test)\n",
    "predictions = model_rf.predict(rescaledValidationX)\n",
    "print(\"accuracy score:\")\n",
    "print(accuracy_score(y_test, predictions))\n",
    "print(\"recall:\")\n",
    "print(recall_score(y_test, predictions))\n",
    "print(\"confusion matrix: \")\n",
    "print(confusion_matrix(y_test, predictions))\n",
    "print(\"classification report: \")\n",
    "print(classification_report(y_test, predictions))\n",
    "\n",
    "feature_importance(model_df, model_xgb, 'XGB sentiment')\n",
    "\n",
    "feature_importance(model_df, model_rf, 'Random Forest Sentiment')"
   ]
  },
  {
   "cell_type": "code",
   "execution_count": null,
   "metadata": {},
   "outputs": [],
   "source": [
    "X_train, y_train, X_test, y_test = train_test_split_own(financial_only, 60)\n",
    "\n",
    "\n",
    "# prepare the model\n",
    "scaler = StandardScaler().fit(X_train)\n",
    "rescaledX = scaler.transform(X_train)\n",
    "\n",
    "# Scaled XGB\n",
    "\n",
    "model_xgb = XGBClassifier()\n",
    "model_xgb.fit(rescaledX, y_train)\n",
    "# estimate accuracy on validation dataset\n",
    "rescaledValidationX = scaler.transform(X_test)\n",
    "predictions = model_xgb.predict(rescaledValidationX)\n",
    "print(\"accuracy score:\")\n",
    "print(accuracy_score(y_test, predictions))\n",
    "print(\"accuracy score:\")\n",
    "print(recall_score(y_test, predictions))\n",
    "print(\"confusion matrix: \")\n",
    "print(confusion_matrix(y_test, predictions))\n",
    "print(\"classification report: \")\n",
    "print(classification_report(y_test, predictions))\n",
    "\n",
    "\n",
    "# Scaling Random Forests\n",
    "\n",
    "model_rf = RandomForestClassifier(n_estimators=1000)\n",
    "model_rf.fit(rescaledX, y_train)\n",
    "# estimate accuracy on validation dataset\n",
    "rescaledValidationX = scaler.transform(X_test)\n",
    "predictions = model_rf.predict(rescaledValidationX)\n",
    "print(\"accuracy score:\")\n",
    "print(accuracy_score(y_test, predictions))\n",
    "print(\"accuracy score:\")\n",
    "print(recall_score(y_test, predictions))\n",
    "print(\"confusion matrix: \")\n",
    "print(confusion_matrix(y_test, predictions))\n",
    "print(\"classification report: \")\n",
    "print(classification_report(y_test, predictions))\n",
    "\n",
    "feature_importance(financial_only, model_xgb, 'XGB no sentiment')\n",
    "\n",
    "feature_importance(financial_only, model_rf, 'Random Forest no Sentiment')"
   ]
  },
  {
   "cell_type": "code",
   "execution_count": 338,
   "metadata": {},
   "outputs": [],
   "source": [
    "# Ensemble pipeline with finetuning\n",
    "\n",
    "from sklearn.model_selection import GridSearchCV\n",
    "from sklearn.model_selection import StratifiedKFold\n",
    "from sklearn.preprocessing import LabelEncoder\n",
    "import matplotlib\n",
    "\n",
    "def filter_important_feat(df, model, treshhold, days):\n",
    "    features = df.drop('buy_signal', axis = 1).columns.values\n",
    "    feat_before = len(features)\n",
    "    print('Before feature removal: ', len(features))\n",
    "    imp_feat = pd.DataFrame([model.feature_importances_], columns = features).transpose()\n",
    "    imp_feat = imp_feat.sort_values(by=0, ascending=False)\n",
    "\n",
    "    clean_imp = imp_feat[imp_feat[0] > treshhold].transpose()\n",
    "    clean_imp = list(clean_imp.columns)\n",
    "    feat_after = len(clean_imp)\n",
    "    print('After feature removal: ', len(clean_imp))\n",
    "    \n",
    "    imp_df = df[clean_imp]    \n",
    "    y = model_df['buy_signal']\n",
    "    imp_df['buy_signal'] = y\n",
    "    \n",
    "    # Return new train and test sets\n",
    "    X_train, y_train, X_test, y_test = train_test_split_own(imp_df, days)\n",
    "    \n",
    "    return X_train, y_train, X_test, y_test, feat_before, feat_after\n",
    "\n",
    "def optimizer(X_train, y_train, X_test, y_test, clf):\n",
    "    matplotlib.use('Agg')\n",
    "    model = clf\n",
    "    n_estimators = [150, 200, 250, 450, 500, 550, 1000]\n",
    "    max_depth = [1, 2, 3, 4, 5, 6, 7, 8, 9, 10, 11, 12]\n",
    "    print('')\n",
    "    best_depth = 0\n",
    "    best_estimator = 0\n",
    "    max_score = 0\n",
    "    max_recall = 0\n",
    "    for n in n_estimators:\n",
    "        for md in max_depth:\n",
    "            model = clf(n_estimators=n, max_depth=md, learning_rate = 0.15)\n",
    "            model.fit(X_train, y_train)\n",
    "            y_pred = model.predict(X_test)\n",
    "            score = accuracy_score(y_test, y_pred)\n",
    "            recall = recall_score(y_test, y_pred)\n",
    "            if recall > max_recall:\n",
    "                max_recall = recall\n",
    "                max_score = score\n",
    "                best_depth = md\n",
    "                best_estimator = n    \n",
    "            print(\"Recall: \" + str(round(recall,4)) + \" Accu: \" + str(round(score,2)) + \" Depth: \" + str(md) + \" Estimator: \" + str(n))\n",
    "    print('')\n",
    "    print(\"Best Recall is \" + str(max_recall) + \" Accu: \" + str(max_score) +\" Depth: \" + str(best_depth) + \" estimator: \" + str(best_estimator))\n",
    "\n",
    "    return max_score, best_depth, best_estimator, model    \n",
    "  \n",
    "def opt_model_fit(X_train, y_train, X_test, y_test, best_depth, best_estimator,clf):\n",
    "    model = clf(n_estimators=best_estimator, max_depth=best_depth, learning_rate=0.15)\n",
    "    model.fit(X_train, y_train)\n",
    "    y_pred = model.predict(X_test)\n",
    "    score = accuracy_score(y_test, y_pred)\n",
    "    print('Accuracy: ', score)\n",
    "    print(recall_score(y_test, y_pred))\n",
    "    print(\"confusion matrix: \")\n",
    "    print(confusion_matrix(y_test, y_pred))\n",
    "    print(\"classification report: \")\n",
    "    print(classification_report(y_test, y_pred))\n",
    "    \n",
    "    return model\n",
    "    \n",
    "def scaler(train_X, test_X):\n",
    "    scaler = StandardScaler().fit(train_X)\n",
    "    rescaledX = scaler.transform(train_X)\n",
    "    rescaledValidationX = scaler.transform(test_X)\n",
    "\n",
    "    return rescaledX, rescaledValidationX    \n",
    "    \n",
    "def run_opt(df, clf, days, threshhold):\n",
    "    X_train, y_train, X_test, y_test = train_test_split_own(df, days)\n",
    "    \n",
    "    print('')\n",
    "    print('scaling...')\n",
    "    X_train, X_test = scaler(X_train, X_test)\n",
    "    \n",
    "    print('')\n",
    "    print('Finding best depth and estimator...')\n",
    "    max_score, best_depth, best_estimator, model = optimizer(X_train, y_train, X_test, y_test,clf)\n",
    "\n",
    "    print('')\n",
    "    print('Filter features...')    \n",
    "    X_train, y_train, X_test, y_test, before, after = filter_important_feat(df, model, threshhold, 60)\n",
    "    \n",
    "    X_train, X_test = scaler(X_train, X_test)\n",
    "\n",
    "    if before != after:\n",
    "        print('')\n",
    "        print('Finding best depth and estimator...')\n",
    "        max_score, best_depth, best_estimator, model = optimizer(X_train, y_train, X_test, y_test,clf)\n",
    "    else:\n",
    "        pass"
   ]
  },
  {
   "cell_type": "code",
   "execution_count": 339,
   "metadata": {
    "scrolled": true
   },
   "outputs": [
    {
     "name": "stdout",
     "output_type": "stream",
     "text": [
      "\n",
      "XGB Sentiment\n",
      "\n",
      "scaling...\n",
      "\n",
      "Finding best depth and estimator...\n",
      "\n",
      "Recall: 0.3103 Accu: 0.57 Depth: 1 Estimator: 150\n",
      "Recall: 0.3822 Accu: 0.55 Depth: 2 Estimator: 150\n",
      "Recall: 0.4167 Accu: 0.55 Depth: 3 Estimator: 150\n",
      "Recall: 0.4511 Accu: 0.53 Depth: 4 Estimator: 150\n",
      "Recall: 0.4425 Accu: 0.54 Depth: 5 Estimator: 150\n",
      "Recall: 0.4856 Accu: 0.54 Depth: 6 Estimator: 150\n",
      "Recall: 0.4195 Accu: 0.52 Depth: 7 Estimator: 150\n",
      "Recall: 0.4914 Accu: 0.54 Depth: 8 Estimator: 150\n",
      "Recall: 0.5172 Accu: 0.55 Depth: 9 Estimator: 150\n",
      "Recall: 0.4713 Accu: 0.53 Depth: 10 Estimator: 150\n",
      "Recall: 0.523 Accu: 0.55 Depth: 11 Estimator: 150\n",
      "Recall: 0.454 Accu: 0.51 Depth: 12 Estimator: 150\n",
      "Recall: 0.3247 Accu: 0.57 Depth: 1 Estimator: 200\n",
      "Recall: 0.3908 Accu: 0.54 Depth: 2 Estimator: 200\n",
      "Recall: 0.4425 Accu: 0.57 Depth: 3 Estimator: 200\n",
      "Recall: 0.4425 Accu: 0.53 Depth: 4 Estimator: 200\n",
      "Recall: 0.4598 Accu: 0.53 Depth: 5 Estimator: 200\n",
      "Recall: 0.4799 Accu: 0.54 Depth: 6 Estimator: 200\n",
      "Recall: 0.4224 Accu: 0.52 Depth: 7 Estimator: 200\n",
      "Recall: 0.5029 Accu: 0.54 Depth: 8 Estimator: 200\n",
      "Recall: 0.5172 Accu: 0.54 Depth: 9 Estimator: 200\n",
      "Recall: 0.4741 Accu: 0.53 Depth: 10 Estimator: 200\n",
      "Recall: 0.523 Accu: 0.55 Depth: 11 Estimator: 200\n",
      "Recall: 0.4684 Accu: 0.51 Depth: 12 Estimator: 200\n",
      "Recall: 0.319 Accu: 0.56 Depth: 1 Estimator: 250\n",
      "Recall: 0.4052 Accu: 0.55 Depth: 2 Estimator: 250\n",
      "Recall: 0.4598 Accu: 0.55 Depth: 3 Estimator: 250\n",
      "Recall: 0.4626 Accu: 0.54 Depth: 4 Estimator: 250\n",
      "Recall: 0.4368 Accu: 0.52 Depth: 5 Estimator: 250\n",
      "Recall: 0.4828 Accu: 0.55 Depth: 6 Estimator: 250\n",
      "Recall: 0.4282 Accu: 0.52 Depth: 7 Estimator: 250\n",
      "Recall: 0.5029 Accu: 0.54 Depth: 8 Estimator: 250\n",
      "Recall: 0.5144 Accu: 0.54 Depth: 9 Estimator: 250\n",
      "Recall: 0.4741 Accu: 0.53 Depth: 10 Estimator: 250\n",
      "Recall: 0.523 Accu: 0.55 Depth: 11 Estimator: 250\n",
      "Recall: 0.4655 Accu: 0.51 Depth: 12 Estimator: 250\n",
      "Recall: 0.3276 Accu: 0.56 Depth: 1 Estimator: 450\n",
      "Recall: 0.4511 Accu: 0.55 Depth: 2 Estimator: 450\n",
      "Recall: 0.4684 Accu: 0.54 Depth: 3 Estimator: 450\n",
      "Recall: 0.477 Accu: 0.55 Depth: 4 Estimator: 450\n",
      "Recall: 0.4713 Accu: 0.53 Depth: 5 Estimator: 450\n",
      "Recall: 0.5057 Accu: 0.55 Depth: 6 Estimator: 450\n",
      "Recall: 0.4569 Accu: 0.52 Depth: 7 Estimator: 450\n",
      "Recall: 0.523 Accu: 0.54 Depth: 8 Estimator: 450\n",
      "Recall: 0.5144 Accu: 0.53 Depth: 9 Estimator: 450\n",
      "Recall: 0.5115 Accu: 0.54 Depth: 10 Estimator: 450\n",
      "Recall: 0.5201 Accu: 0.53 Depth: 11 Estimator: 450\n",
      "Recall: 0.477 Accu: 0.52 Depth: 12 Estimator: 450\n",
      "Recall: 0.3391 Accu: 0.57 Depth: 1 Estimator: 500\n",
      "Recall: 0.454 Accu: 0.55 Depth: 2 Estimator: 500\n",
      "Recall: 0.4598 Accu: 0.55 Depth: 3 Estimator: 500\n",
      "Recall: 0.4856 Accu: 0.55 Depth: 4 Estimator: 500\n",
      "Recall: 0.4713 Accu: 0.53 Depth: 5 Estimator: 500\n",
      "Recall: 0.5086 Accu: 0.55 Depth: 6 Estimator: 500\n",
      "Recall: 0.4684 Accu: 0.52 Depth: 7 Estimator: 500\n",
      "Recall: 0.5287 Accu: 0.54 Depth: 8 Estimator: 500\n",
      "Recall: 0.5115 Accu: 0.53 Depth: 9 Estimator: 500\n",
      "Recall: 0.5172 Accu: 0.54 Depth: 10 Estimator: 500\n",
      "Recall: 0.5259 Accu: 0.54 Depth: 11 Estimator: 500\n",
      "Recall: 0.477 Accu: 0.52 Depth: 12 Estimator: 500\n",
      "Recall: 0.3391 Accu: 0.56 Depth: 1 Estimator: 550\n",
      "Recall: 0.4511 Accu: 0.54 Depth: 2 Estimator: 550\n",
      "Recall: 0.4598 Accu: 0.55 Depth: 3 Estimator: 550\n",
      "Recall: 0.4856 Accu: 0.55 Depth: 4 Estimator: 550\n",
      "Recall: 0.4828 Accu: 0.53 Depth: 5 Estimator: 550\n",
      "Recall: 0.5086 Accu: 0.55 Depth: 6 Estimator: 550\n",
      "Recall: 0.4741 Accu: 0.52 Depth: 7 Estimator: 550\n",
      "Recall: 0.5316 Accu: 0.54 Depth: 8 Estimator: 550\n",
      "Recall: 0.5115 Accu: 0.53 Depth: 9 Estimator: 550\n",
      "Recall: 0.5172 Accu: 0.55 Depth: 10 Estimator: 550\n",
      "Recall: 0.5316 Accu: 0.54 Depth: 11 Estimator: 550\n",
      "Recall: 0.4741 Accu: 0.51 Depth: 12 Estimator: 550\n",
      "Recall: 0.3678 Accu: 0.55 Depth: 1 Estimator: 1000\n",
      "Recall: 0.4655 Accu: 0.54 Depth: 2 Estimator: 1000\n",
      "Recall: 0.4971 Accu: 0.55 Depth: 3 Estimator: 1000\n",
      "Recall: 0.4914 Accu: 0.54 Depth: 4 Estimator: 1000\n",
      "Recall: 0.4971 Accu: 0.54 Depth: 5 Estimator: 1000\n",
      "Recall: 0.5316 Accu: 0.55 Depth: 6 Estimator: 1000\n",
      "Recall: 0.4799 Accu: 0.52 Depth: 7 Estimator: 1000\n",
      "Recall: 0.5489 Accu: 0.56 Depth: 8 Estimator: 1000\n",
      "Recall: 0.5259 Accu: 0.53 Depth: 9 Estimator: 1000\n",
      "Recall: 0.5201 Accu: 0.54 Depth: 10 Estimator: 1000\n",
      "Recall: 0.523 Accu: 0.53 Depth: 11 Estimator: 1000\n",
      "Recall: 0.4885 Accu: 0.52 Depth: 12 Estimator: 1000\n",
      "\n",
      "Best Recall is 0.5488505747126436 Accu: 0.5586297760210803 Depth: 8 estimator: 1000\n",
      "\n",
      "Filter features...\n",
      "Before feature removal:  14\n",
      "After feature removal:  14\n",
      "\n",
      "XGB No Sentiment\n",
      "\n",
      "scaling...\n",
      "\n",
      "Finding best depth and estimator...\n",
      "\n",
      "Recall: 0.3793 Accu: 0.56 Depth: 1 Estimator: 150\n",
      "Recall: 0.4684 Accu: 0.56 Depth: 2 Estimator: 150\n",
      "Recall: 0.4626 Accu: 0.55 Depth: 3 Estimator: 150\n",
      "Recall: 0.4828 Accu: 0.54 Depth: 4 Estimator: 150\n",
      "Recall: 0.4626 Accu: 0.53 Depth: 5 Estimator: 150\n",
      "Recall: 0.4943 Accu: 0.55 Depth: 6 Estimator: 150\n",
      "Recall: 0.4569 Accu: 0.52 Depth: 7 Estimator: 150\n",
      "Recall: 0.5029 Accu: 0.54 Depth: 8 Estimator: 150\n",
      "Recall: 0.4368 Accu: 0.52 Depth: 9 Estimator: 150\n",
      "Recall: 0.4368 Accu: 0.53 Depth: 10 Estimator: 150\n",
      "Recall: 0.4655 Accu: 0.53 Depth: 11 Estimator: 150\n",
      "Recall: 0.4282 Accu: 0.52 Depth: 12 Estimator: 150\n",
      "Recall: 0.3707 Accu: 0.55 Depth: 1 Estimator: 200\n",
      "Recall: 0.4914 Accu: 0.56 Depth: 2 Estimator: 200\n",
      "Recall: 0.4655 Accu: 0.55 Depth: 3 Estimator: 200\n",
      "Recall: 0.4569 Accu: 0.53 Depth: 4 Estimator: 200\n",
      "Recall: 0.4425 Accu: 0.52 Depth: 5 Estimator: 200\n",
      "Recall: 0.4971 Accu: 0.56 Depth: 6 Estimator: 200\n",
      "Recall: 0.4684 Accu: 0.53 Depth: 7 Estimator: 200\n",
      "Recall: 0.477 Accu: 0.54 Depth: 8 Estimator: 200\n",
      "Recall: 0.4483 Accu: 0.53 Depth: 9 Estimator: 200\n",
      "Recall: 0.4339 Accu: 0.53 Depth: 10 Estimator: 200\n",
      "Recall: 0.4713 Accu: 0.53 Depth: 11 Estimator: 200\n",
      "Recall: 0.4511 Accu: 0.53 Depth: 12 Estimator: 200\n",
      "Recall: 0.3851 Accu: 0.54 Depth: 1 Estimator: 250\n",
      "Recall: 0.4914 Accu: 0.55 Depth: 2 Estimator: 250\n",
      "Recall: 0.4626 Accu: 0.53 Depth: 3 Estimator: 250\n",
      "Recall: 0.454 Accu: 0.53 Depth: 4 Estimator: 250\n",
      "Recall: 0.4569 Accu: 0.53 Depth: 5 Estimator: 250\n",
      "Recall: 0.4713 Accu: 0.54 Depth: 6 Estimator: 250\n",
      "Recall: 0.477 Accu: 0.54 Depth: 7 Estimator: 250\n",
      "Recall: 0.4741 Accu: 0.54 Depth: 8 Estimator: 250\n",
      "Recall: 0.431 Accu: 0.53 Depth: 9 Estimator: 250\n",
      "Recall: 0.4425 Accu: 0.53 Depth: 10 Estimator: 250\n",
      "Recall: 0.4799 Accu: 0.54 Depth: 11 Estimator: 250\n",
      "Recall: 0.4425 Accu: 0.52 Depth: 12 Estimator: 250\n",
      "Recall: 0.4397 Accu: 0.54 Depth: 1 Estimator: 450\n",
      "Recall: 0.5 Accu: 0.55 Depth: 2 Estimator: 450\n",
      "Recall: 0.4684 Accu: 0.55 Depth: 3 Estimator: 450\n",
      "Recall: 0.4856 Accu: 0.54 Depth: 4 Estimator: 450\n",
      "Recall: 0.4684 Accu: 0.53 Depth: 5 Estimator: 450\n",
      "Recall: 0.4655 Accu: 0.54 Depth: 6 Estimator: 450\n",
      "Recall: 0.4713 Accu: 0.54 Depth: 7 Estimator: 450\n",
      "Recall: 0.4684 Accu: 0.54 Depth: 8 Estimator: 450\n",
      "Recall: 0.4339 Accu: 0.52 Depth: 9 Estimator: 450\n",
      "Recall: 0.4569 Accu: 0.54 Depth: 10 Estimator: 450\n",
      "Recall: 0.4684 Accu: 0.53 Depth: 11 Estimator: 450\n",
      "Recall: 0.4397 Accu: 0.52 Depth: 12 Estimator: 450\n",
      "Recall: 0.431 Accu: 0.53 Depth: 1 Estimator: 500\n",
      "Recall: 0.477 Accu: 0.53 Depth: 2 Estimator: 500\n",
      "Recall: 0.4741 Accu: 0.55 Depth: 3 Estimator: 500\n",
      "Recall: 0.4885 Accu: 0.54 Depth: 4 Estimator: 500\n",
      "Recall: 0.4713 Accu: 0.53 Depth: 5 Estimator: 500\n",
      "Recall: 0.4684 Accu: 0.54 Depth: 6 Estimator: 500\n",
      "Recall: 0.477 Accu: 0.54 Depth: 7 Estimator: 500\n",
      "Recall: 0.4799 Accu: 0.54 Depth: 8 Estimator: 500\n",
      "Recall: 0.4425 Accu: 0.52 Depth: 9 Estimator: 500\n",
      "Recall: 0.4569 Accu: 0.54 Depth: 10 Estimator: 500\n",
      "Recall: 0.4655 Accu: 0.53 Depth: 11 Estimator: 500\n",
      "Recall: 0.4483 Accu: 0.53 Depth: 12 Estimator: 500\n",
      "Recall: 0.431 Accu: 0.53 Depth: 1 Estimator: 550\n",
      "Recall: 0.4885 Accu: 0.54 Depth: 2 Estimator: 550\n",
      "Recall: 0.4713 Accu: 0.55 Depth: 3 Estimator: 550\n",
      "Recall: 0.4828 Accu: 0.54 Depth: 4 Estimator: 550\n",
      "Recall: 0.4799 Accu: 0.53 Depth: 5 Estimator: 550\n",
      "Recall: 0.4655 Accu: 0.54 Depth: 6 Estimator: 550\n",
      "Recall: 0.4828 Accu: 0.55 Depth: 7 Estimator: 550\n",
      "Recall: 0.477 Accu: 0.54 Depth: 8 Estimator: 550\n",
      "Recall: 0.4425 Accu: 0.52 Depth: 9 Estimator: 550\n",
      "Recall: 0.4511 Accu: 0.54 Depth: 10 Estimator: 550\n",
      "Recall: 0.4626 Accu: 0.53 Depth: 11 Estimator: 550\n",
      "Recall: 0.4511 Accu: 0.52 Depth: 12 Estimator: 550\n",
      "Recall: 0.4368 Accu: 0.53 Depth: 1 Estimator: 1000\n",
      "Recall: 0.5057 Accu: 0.55 Depth: 2 Estimator: 1000\n"
     ]
    },
    {
     "name": "stdout",
     "output_type": "stream",
     "text": [
      "Recall: 0.4971 Accu: 0.54 Depth: 3 Estimator: 1000\n",
      "Recall: 0.4914 Accu: 0.54 Depth: 4 Estimator: 1000\n",
      "Recall: 0.477 Accu: 0.54 Depth: 5 Estimator: 1000\n",
      "Recall: 0.4828 Accu: 0.53 Depth: 6 Estimator: 1000\n",
      "Recall: 0.4828 Accu: 0.54 Depth: 7 Estimator: 1000\n",
      "Recall: 0.4799 Accu: 0.54 Depth: 8 Estimator: 1000\n",
      "Recall: 0.4511 Accu: 0.52 Depth: 9 Estimator: 1000\n",
      "Recall: 0.4626 Accu: 0.54 Depth: 10 Estimator: 1000\n",
      "Recall: 0.477 Accu: 0.54 Depth: 11 Estimator: 1000\n",
      "Recall: 0.4655 Accu: 0.54 Depth: 12 Estimator: 1000\n",
      "\n",
      "Best Recall is 0.5057471264367817 Accu: 0.549407114624506 Depth: 2 estimator: 1000\n",
      "\n",
      "Filter features...\n",
      "Before feature removal:  6\n",
      "After feature removal:  6\n"
     ]
    }
   ],
   "source": [
    "feat_thresh = 0.045\n",
    "\n",
    "print('')\n",
    "print('XGB Sentiment')\n",
    "clf = XGBClassifier\n",
    "run_opt(model_df, clf, 60, feat_thresh)\n",
    "\n",
    "print('')\n",
    "print('XGB No Sentiment')\n",
    "run_opt(financial_only, clf, 60, feat_thresh)"
   ]
  },
  {
   "cell_type": "code",
   "execution_count": 327,
   "metadata": {},
   "outputs": [],
   "source": [
    "# Ensemble pipeline with finetuning\n",
    "\n",
    "from sklearn.model_selection import GridSearchCV\n",
    "from sklearn.model_selection import StratifiedKFold\n",
    "from sklearn.preprocessing import LabelEncoder\n",
    "import matplotlib\n",
    "\n",
    "def filter_important_feat(df, model, treshhold, days):\n",
    "    features = df.drop('buy_signal', axis = 1).columns.values\n",
    "    feat_before = len(features)\n",
    "    print('Before feature removal: ', len(features))\n",
    "    imp_feat = pd.DataFrame([model.feature_importances_], columns = features).transpose()\n",
    "    imp_feat = imp_feat.sort_values(by=0, ascending=False)\n",
    "\n",
    "    clean_imp = imp_feat[imp_feat[0] > treshhold].transpose()\n",
    "    clean_imp = list(clean_imp.columns)\n",
    "    feat_after = len(clean_imp)\n",
    "    print('After feature removal: ', len(clean_imp))\n",
    "    \n",
    "    imp_df = df[clean_imp]    \n",
    "    y = model_df['buy_signal']\n",
    "    imp_df['buy_signal'] = y\n",
    "    \n",
    "    # Return new train and test sets\n",
    "    X_train, y_train, X_test, y_test = train_test_split_own(imp_df, days)\n",
    "    \n",
    "    return X_train, y_train, X_test, y_test, feat_before, feat_after\n",
    "\n",
    "def optimizer(X_train, y_train, X_test, y_test, clf):\n",
    "    matplotlib.use('Agg')\n",
    "    model = clf\n",
    "    n_estimators = [150, 200, 250, 450, 500, 550, 1000]\n",
    "    max_depth = [1, 2, 3, 4, 5, 6, 7, 8, 9, 10, 11, 12]\n",
    "    print('')\n",
    "    best_depth = 0\n",
    "    best_estimator = 0\n",
    "    max_score = 0\n",
    "    max_recall = 0\n",
    "    for n in n_estimators:\n",
    "        for md in max_depth:\n",
    "            model = clf(n_estimators=n, max_depth=md)\n",
    "            model.fit(X_train, y_train)\n",
    "            y_pred = model.predict(X_test)\n",
    "            score = accuracy_score(y_test, y_pred)\n",
    "            recall = recall_score(y_test, y_pred)\n",
    "            if recall > max_recall:\n",
    "                max_recall = recall\n",
    "                max_score = score\n",
    "                best_depth = md\n",
    "                best_estimator = n    \n",
    "            print(\"Recall: \" + str(round(recall,4)) + \" Accu: \" + str(round(score,2)) + \" Depth: \" + str(md) + \" Estimator: \" + str(n))\n",
    "    print('')\n",
    "    print(\"Best Recall is \" + str(max_recall) + \" Accu: \" + str(max_score) +\" Depth: \" + str(best_depth) + \" estimator: \" + str(best_estimator))\n",
    "\n",
    "    return max_score, best_depth, best_estimator, model    \n",
    "  \n",
    "def opt_model_fit(X_train, y_train, X_test, y_test, best_depth, best_estimator,clf):\n",
    "    model = clf(n_estimators=best_estimator, max_depth=best_depth)\n",
    "    model.fit(X_train, y_train)\n",
    "    y_pred = model.predict(X_test)\n",
    "    score = accuracy_score(y_test, y_pred)\n",
    "    print('Accuracy: ', score)\n",
    "    print(recall_score(y_test, y_pred))\n",
    "    print(\"confusion matrix: \")\n",
    "    print(confusion_matrix(y_test, y_pred))\n",
    "    print(\"classification report: \")\n",
    "    print(classification_report(y_test, y_pred))\n",
    "    \n",
    "    return model\n",
    "    \n",
    "def scaler(train_X, test_X):\n",
    "    scaler = StandardScaler().fit(train_X)\n",
    "    rescaledX = scaler.transform(train_X)\n",
    "    rescaledValidationX = scaler.transform(test_X)\n",
    "\n",
    "    return rescaledX, rescaledValidationX    \n",
    "    \n",
    "def run_opt(df, clf, days, threshhold):\n",
    "    X_train, y_train, X_test, y_test = train_test_split_own(df, days)\n",
    "    \n",
    "    print('')\n",
    "    print('scaling...')\n",
    "    X_train, X_test = scaler(X_train, X_test)\n",
    "    \n",
    "    print('')\n",
    "    print('Finding best depth and estimator...')\n",
    "    max_score, best_depth, best_estimator, model = optimizer(X_train, y_train, X_test, y_test,clf)\n",
    "\n",
    "    print('')\n",
    "    print('Filter features...')    \n",
    "    X_train, y_train, X_test, y_test, before, after = filter_important_feat(df, model, threshhold, 60)\n",
    "    \n",
    "    X_train, X_test = scaler(X_train, X_test)\n",
    "\n",
    "    if before != after:\n",
    "        print('')\n",
    "        print('Finding best depth and estimator...')\n",
    "        max_score, best_depth, best_estimator, model = optimizer(X_train, y_train, X_test, y_test,clf)\n",
    "    else:\n",
    "        pass\n",
    "    "
   ]
  },
  {
   "cell_type": "code",
   "execution_count": 328,
   "metadata": {
    "scrolled": true
   },
   "outputs": [
    {
     "name": "stdout",
     "output_type": "stream",
     "text": [
      "\n",
      "RF Sentiment\n",
      "\n",
      "scaling...\n",
      "\n",
      "Finding best depth and estimator...\n",
      "\n",
      "Recall: 0.0259 Accu: 0.55 Depth: 1 Estimator: 150\n",
      "Recall: 0.1121 Accu: 0.56 Depth: 2 Estimator: 150\n",
      "Recall: 0.1839 Accu: 0.57 Depth: 3 Estimator: 150\n",
      "Recall: 0.2443 Accu: 0.55 Depth: 4 Estimator: 150\n",
      "Recall: 0.2471 Accu: 0.55 Depth: 5 Estimator: 150\n",
      "Recall: 0.3132 Accu: 0.58 Depth: 6 Estimator: 150\n",
      "Recall: 0.3678 Accu: 0.58 Depth: 7 Estimator: 150\n",
      "Recall: 0.3764 Accu: 0.57 Depth: 8 Estimator: 150\n",
      "Recall: 0.3448 Accu: 0.56 Depth: 9 Estimator: 150\n",
      "Recall: 0.4397 Accu: 0.56 Depth: 10 Estimator: 150\n",
      "Recall: 0.3908 Accu: 0.55 Depth: 11 Estimator: 150\n",
      "Recall: 0.4454 Accu: 0.56 Depth: 12 Estimator: 150\n",
      "Recall: 0.0115 Accu: 0.54 Depth: 1 Estimator: 200\n",
      "Recall: 0.1092 Accu: 0.56 Depth: 2 Estimator: 200\n",
      "Recall: 0.1753 Accu: 0.55 Depth: 3 Estimator: 200\n",
      "Recall: 0.2299 Accu: 0.58 Depth: 4 Estimator: 200\n",
      "Recall: 0.25 Accu: 0.56 Depth: 5 Estimator: 200\n",
      "Recall: 0.2443 Accu: 0.56 Depth: 6 Estimator: 200\n",
      "Recall: 0.3736 Accu: 0.57 Depth: 7 Estimator: 200\n",
      "Recall: 0.3678 Accu: 0.56 Depth: 8 Estimator: 200\n",
      "Recall: 0.3764 Accu: 0.57 Depth: 9 Estimator: 200\n",
      "Recall: 0.3966 Accu: 0.58 Depth: 10 Estimator: 200\n",
      "Recall: 0.4167 Accu: 0.56 Depth: 11 Estimator: 200\n",
      "Recall: 0.3937 Accu: 0.57 Depth: 12 Estimator: 200\n",
      "Recall: 0.0115 Accu: 0.54 Depth: 1 Estimator: 250\n",
      "Recall: 0.0862 Accu: 0.56 Depth: 2 Estimator: 250\n",
      "Recall: 0.1408 Accu: 0.55 Depth: 3 Estimator: 250\n",
      "Recall: 0.2069 Accu: 0.55 Depth: 4 Estimator: 250\n",
      "Recall: 0.2356 Accu: 0.56 Depth: 5 Estimator: 250\n",
      "Recall: 0.2989 Accu: 0.58 Depth: 6 Estimator: 250\n",
      "Recall: 0.3218 Accu: 0.56 Depth: 7 Estimator: 250\n",
      "Recall: 0.3649 Accu: 0.56 Depth: 8 Estimator: 250\n",
      "Recall: 0.3822 Accu: 0.57 Depth: 9 Estimator: 250\n",
      "Recall: 0.3477 Accu: 0.55 Depth: 10 Estimator: 250\n",
      "Recall: 0.3707 Accu: 0.57 Depth: 11 Estimator: 250\n",
      "Recall: 0.4569 Accu: 0.58 Depth: 12 Estimator: 250\n",
      "Recall: 0.0316 Accu: 0.55 Depth: 1 Estimator: 450\n",
      "Recall: 0.0862 Accu: 0.56 Depth: 2 Estimator: 450\n",
      "Recall: 0.1753 Accu: 0.56 Depth: 3 Estimator: 450\n",
      "Recall: 0.2155 Accu: 0.56 Depth: 4 Estimator: 450\n",
      "Recall: 0.2644 Accu: 0.56 Depth: 5 Estimator: 450\n",
      "Recall: 0.2902 Accu: 0.56 Depth: 6 Estimator: 450\n",
      "Recall: 0.3276 Accu: 0.57 Depth: 7 Estimator: 450\n",
      "Recall: 0.3621 Accu: 0.58 Depth: 8 Estimator: 450\n",
      "Recall: 0.3649 Accu: 0.56 Depth: 9 Estimator: 450\n",
      "Recall: 0.3966 Accu: 0.57 Depth: 10 Estimator: 450\n",
      "Recall: 0.408 Accu: 0.57 Depth: 11 Estimator: 450\n",
      "Recall: 0.3966 Accu: 0.56 Depth: 12 Estimator: 450\n",
      "Recall: 0.0201 Accu: 0.54 Depth: 1 Estimator: 500\n",
      "Recall: 0.1149 Accu: 0.56 Depth: 2 Estimator: 500\n",
      "Recall: 0.1466 Accu: 0.57 Depth: 3 Estimator: 500\n",
      "Recall: 0.227 Accu: 0.56 Depth: 4 Estimator: 500\n",
      "Recall: 0.2471 Accu: 0.57 Depth: 5 Estimator: 500\n",
      "Recall: 0.2931 Accu: 0.57 Depth: 6 Estimator: 500\n",
      "Recall: 0.3305 Accu: 0.56 Depth: 7 Estimator: 500\n",
      "Recall: 0.3592 Accu: 0.57 Depth: 8 Estimator: 500\n",
      "Recall: 0.3937 Accu: 0.58 Depth: 9 Estimator: 500\n",
      "Recall: 0.4023 Accu: 0.57 Depth: 10 Estimator: 500\n",
      "Recall: 0.3937 Accu: 0.55 Depth: 11 Estimator: 500\n",
      "Recall: 0.4253 Accu: 0.57 Depth: 12 Estimator: 500\n",
      "Recall: 0.0201 Accu: 0.55 Depth: 1 Estimator: 550\n",
      "Recall: 0.0661 Accu: 0.55 Depth: 2 Estimator: 550\n",
      "Recall: 0.1667 Accu: 0.57 Depth: 3 Estimator: 550\n",
      "Recall: 0.2155 Accu: 0.56 Depth: 4 Estimator: 550\n",
      "Recall: 0.2615 Accu: 0.56 Depth: 5 Estimator: 550\n",
      "Recall: 0.2874 Accu: 0.57 Depth: 6 Estimator: 550\n",
      "Recall: 0.3247 Accu: 0.57 Depth: 7 Estimator: 550\n",
      "Recall: 0.3506 Accu: 0.56 Depth: 8 Estimator: 550\n",
      "Recall: 0.3793 Accu: 0.57 Depth: 9 Estimator: 550\n",
      "Recall: 0.3793 Accu: 0.57 Depth: 10 Estimator: 550\n",
      "Recall: 0.4052 Accu: 0.57 Depth: 11 Estimator: 550\n",
      "Recall: 0.4569 Accu: 0.58 Depth: 12 Estimator: 550\n",
      "Recall: 0.0172 Accu: 0.54 Depth: 1 Estimator: 1000\n",
      "Recall: 0.0805 Accu: 0.56 Depth: 2 Estimator: 1000\n",
      "Recall: 0.1638 Accu: 0.57 Depth: 3 Estimator: 1000\n",
      "Recall: 0.2069 Accu: 0.56 Depth: 4 Estimator: 1000\n",
      "Recall: 0.2586 Accu: 0.56 Depth: 5 Estimator: 1000\n",
      "Recall: 0.2759 Accu: 0.56 Depth: 6 Estimator: 1000\n",
      "Recall: 0.2931 Accu: 0.55 Depth: 7 Estimator: 1000\n",
      "Recall: 0.3563 Accu: 0.57 Depth: 8 Estimator: 1000\n",
      "Recall: 0.3678 Accu: 0.57 Depth: 9 Estimator: 1000\n",
      "Recall: 0.3994 Accu: 0.57 Depth: 10 Estimator: 1000\n",
      "Recall: 0.3937 Accu: 0.56 Depth: 11 Estimator: 1000\n",
      "Recall: 0.4397 Accu: 0.58 Depth: 12 Estimator: 1000\n",
      "\n",
      "Best Recall is 0.45689655172413796 Accu: 0.5757575757575758 Depth: 12 estimator: 250\n",
      "\n",
      "Filter features...\n",
      "Before feature removal:  14\n",
      "After feature removal:  14\n",
      "\n",
      "RF No Sentiment\n",
      "\n",
      "scaling...\n",
      "\n",
      "Finding best depth and estimator...\n",
      "\n",
      "Recall: 0.1034 Accu: 0.56 Depth: 1 Estimator: 150\n",
      "Recall: 0.2586 Accu: 0.58 Depth: 2 Estimator: 150\n",
      "Recall: 0.3506 Accu: 0.58 Depth: 3 Estimator: 150\n",
      "Recall: 0.3707 Accu: 0.57 Depth: 4 Estimator: 150\n",
      "Recall: 0.408 Accu: 0.57 Depth: 5 Estimator: 150\n",
      "Recall: 0.4224 Accu: 0.58 Depth: 6 Estimator: 150\n",
      "Recall: 0.4023 Accu: 0.57 Depth: 7 Estimator: 150\n",
      "Recall: 0.408 Accu: 0.57 Depth: 8 Estimator: 150\n",
      "Recall: 0.3908 Accu: 0.55 Depth: 9 Estimator: 150\n",
      "Recall: 0.4195 Accu: 0.54 Depth: 10 Estimator: 150\n",
      "Recall: 0.4397 Accu: 0.55 Depth: 11 Estimator: 150\n",
      "Recall: 0.431 Accu: 0.55 Depth: 12 Estimator: 150\n",
      "Recall: 0.0747 Accu: 0.55 Depth: 1 Estimator: 200\n",
      "Recall: 0.2356 Accu: 0.58 Depth: 2 Estimator: 200\n",
      "Recall: 0.3879 Accu: 0.59 Depth: 3 Estimator: 200\n",
      "Recall: 0.3937 Accu: 0.59 Depth: 4 Estimator: 200\n",
      "Recall: 0.3764 Accu: 0.58 Depth: 5 Estimator: 200\n",
      "Recall: 0.4138 Accu: 0.58 Depth: 6 Estimator: 200\n",
      "Recall: 0.3937 Accu: 0.56 Depth: 7 Estimator: 200\n",
      "Recall: 0.4195 Accu: 0.56 Depth: 8 Estimator: 200\n",
      "Recall: 0.4195 Accu: 0.56 Depth: 9 Estimator: 200\n",
      "Recall: 0.4339 Accu: 0.56 Depth: 10 Estimator: 200\n",
      "Recall: 0.4138 Accu: 0.55 Depth: 11 Estimator: 200\n",
      "Recall: 0.408 Accu: 0.53 Depth: 12 Estimator: 200\n",
      "Recall: 0.069 Accu: 0.55 Depth: 1 Estimator: 250\n",
      "Recall: 0.2155 Accu: 0.58 Depth: 2 Estimator: 250\n",
      "Recall: 0.3132 Accu: 0.57 Depth: 3 Estimator: 250\n",
      "Recall: 0.3764 Accu: 0.59 Depth: 4 Estimator: 250\n",
      "Recall: 0.3908 Accu: 0.58 Depth: 5 Estimator: 250\n",
      "Recall: 0.408 Accu: 0.57 Depth: 6 Estimator: 250\n",
      "Recall: 0.4253 Accu: 0.57 Depth: 7 Estimator: 250\n",
      "Recall: 0.408 Accu: 0.55 Depth: 8 Estimator: 250\n",
      "Recall: 0.4167 Accu: 0.56 Depth: 9 Estimator: 250\n",
      "Recall: 0.4339 Accu: 0.56 Depth: 10 Estimator: 250\n",
      "Recall: 0.4454 Accu: 0.54 Depth: 11 Estimator: 250\n",
      "Recall: 0.4282 Accu: 0.55 Depth: 12 Estimator: 250\n",
      "Recall: 0.1322 Accu: 0.57 Depth: 1 Estimator: 450\n",
      "Recall: 0.2155 Accu: 0.57 Depth: 2 Estimator: 450\n",
      "Recall: 0.3736 Accu: 0.59 Depth: 3 Estimator: 450\n",
      "Recall: 0.3764 Accu: 0.58 Depth: 4 Estimator: 450\n",
      "Recall: 0.3851 Accu: 0.57 Depth: 5 Estimator: 450\n",
      "Recall: 0.408 Accu: 0.57 Depth: 6 Estimator: 450\n",
      "Recall: 0.408 Accu: 0.57 Depth: 7 Estimator: 450\n",
      "Recall: 0.4167 Accu: 0.56 Depth: 8 Estimator: 450\n",
      "Recall: 0.4253 Accu: 0.57 Depth: 9 Estimator: 450\n",
      "Recall: 0.408 Accu: 0.55 Depth: 10 Estimator: 450\n",
      "Recall: 0.4195 Accu: 0.55 Depth: 11 Estimator: 450\n",
      "Recall: 0.4224 Accu: 0.54 Depth: 12 Estimator: 450\n",
      "Recall: 0.1264 Accu: 0.57 Depth: 1 Estimator: 500\n",
      "Recall: 0.204 Accu: 0.57 Depth: 2 Estimator: 500\n",
      "Recall: 0.3592 Accu: 0.59 Depth: 3 Estimator: 500\n",
      "Recall: 0.4052 Accu: 0.59 Depth: 4 Estimator: 500\n",
      "Recall: 0.3966 Accu: 0.57 Depth: 5 Estimator: 500\n",
      "Recall: 0.408 Accu: 0.58 Depth: 6 Estimator: 500\n",
      "Recall: 0.3937 Accu: 0.55 Depth: 7 Estimator: 500\n",
      "Recall: 0.4167 Accu: 0.56 Depth: 8 Estimator: 500\n",
      "Recall: 0.4052 Accu: 0.54 Depth: 9 Estimator: 500\n",
      "Recall: 0.4282 Accu: 0.56 Depth: 10 Estimator: 500\n",
      "Recall: 0.4224 Accu: 0.55 Depth: 11 Estimator: 500\n",
      "Recall: 0.431 Accu: 0.55 Depth: 12 Estimator: 500\n",
      "Recall: 0.0747 Accu: 0.55 Depth: 1 Estimator: 550\n",
      "Recall: 0.2098 Accu: 0.58 Depth: 2 Estimator: 550\n",
      "Recall: 0.3103 Accu: 0.59 Depth: 3 Estimator: 550\n",
      "Recall: 0.3822 Accu: 0.58 Depth: 4 Estimator: 550\n",
      "Recall: 0.3966 Accu: 0.58 Depth: 5 Estimator: 550\n",
      "Recall: 0.3994 Accu: 0.57 Depth: 6 Estimator: 550\n",
      "Recall: 0.4167 Accu: 0.56 Depth: 7 Estimator: 550\n",
      "Recall: 0.3937 Accu: 0.55 Depth: 8 Estimator: 550\n",
      "Recall: 0.408 Accu: 0.55 Depth: 9 Estimator: 550\n",
      "Recall: 0.4167 Accu: 0.55 Depth: 10 Estimator: 550\n",
      "Recall: 0.4138 Accu: 0.56 Depth: 11 Estimator: 550\n",
      "Recall: 0.4138 Accu: 0.54 Depth: 12 Estimator: 550\n",
      "Recall: 0.0776 Accu: 0.56 Depth: 1 Estimator: 1000\n",
      "Recall: 0.2529 Accu: 0.58 Depth: 2 Estimator: 1000\n"
     ]
    },
    {
     "name": "stdout",
     "output_type": "stream",
     "text": [
      "Recall: 0.3621 Accu: 0.59 Depth: 3 Estimator: 1000\n",
      "Recall: 0.3908 Accu: 0.58 Depth: 4 Estimator: 1000\n",
      "Recall: 0.3966 Accu: 0.58 Depth: 5 Estimator: 1000\n",
      "Recall: 0.4282 Accu: 0.59 Depth: 6 Estimator: 1000\n",
      "Recall: 0.3937 Accu: 0.56 Depth: 7 Estimator: 1000\n",
      "Recall: 0.4052 Accu: 0.55 Depth: 8 Estimator: 1000\n",
      "Recall: 0.4224 Accu: 0.56 Depth: 9 Estimator: 1000\n",
      "Recall: 0.4167 Accu: 0.55 Depth: 10 Estimator: 1000\n",
      "Recall: 0.4195 Accu: 0.55 Depth: 11 Estimator: 1000\n",
      "Recall: 0.4224 Accu: 0.54 Depth: 12 Estimator: 1000\n",
      "\n",
      "Best Recall is 0.4454022988505747 Accu: 0.5428194993412385 Depth: 11 estimator: 250\n",
      "\n",
      "Filter features...\n",
      "Before feature removal:  6\n",
      "After feature removal:  6\n"
     ]
    }
   ],
   "source": [
    "print('')\n",
    "print('RF Sentiment')\n",
    "clf = RandomForestClassifier\n",
    "run_opt(model_df, clf, 60, feat_thresh)\n",
    "\n",
    "print('')\n",
    "print('RF No Sentiment')\n",
    "run_opt(financial_only, clf, 60, feat_thresh)"
   ]
  },
  {
   "cell_type": "markdown",
   "metadata": {},
   "source": [
    "# XGB Fine-Tuning"
   ]
  },
  {
   "cell_type": "code",
   "execution_count": 340,
   "metadata": {},
   "outputs": [],
   "source": [
    "def para_model_lr(X_train, y_train, X_test, y_test, par_val):\n",
    "    best_depth = 8\n",
    "    best_estimator =1000\n",
    "    clf = XGBClassifier\n",
    "    \n",
    "    max_recall = 0\n",
    "    max_score = 0\n",
    "    best_para = 0\n",
    "    best_cm = 0\n",
    "    \n",
    "    for i in par_val:\n",
    "        model = clf(n_estimators=best_estimator, max_depth=best_depth, learning_rate=i)\n",
    "        model.fit(X_train, y_train)\n",
    "        y_pred = model.predict(X_test)\n",
    "        score = accuracy_score(y_test, y_pred)\n",
    "        recall = recall_score(y_test, y_pred)\n",
    "        if recall > max_recall:\n",
    "            max_recall = recall\n",
    "            max_score = score\n",
    "            best_para = i\n",
    "            best_cm = confusion_matrix(y_test, y_pred)\n",
    "        #print('recall: ' + str(recall) + ' at ' + str(i))\n",
    "\n",
    "        #print(\"confusion matrix: \")\n",
    "        #print(confusion_matrix(y_test, y_pred))\n",
    "        \n",
    "    return max_recall, max_score, best_para, best_cm\n",
    "\n",
    "def para_model_subsample(X_train, y_train, X_test, y_test, par_val):\n",
    "    best_depth = 8\n",
    "    best_estimator =1000\n",
    "    clf = XGBClassifier\n",
    "    \n",
    "    max_recall = 0\n",
    "    max_score = 0\n",
    "    best_para = 0\n",
    "    best_cm = 0\n",
    "    model = 0\n",
    "    \n",
    "    for i in par_val:\n",
    "        model = clf(n_estimators=best_estimator, max_depth=best_depth, subsample=i)\n",
    "        model.fit(X_train, y_train)\n",
    "        y_pred = model.predict(X_test)\n",
    "        score = accuracy_score(y_test, y_pred)\n",
    "        recall = recall_score(y_test, y_pred)\n",
    "        if recall > max_recall:\n",
    "            max_recall = recall\n",
    "            max_score = score\n",
    "            best_para = i\n",
    "            best_cm = confusion_matrix(y_test, y_pred)\n",
    "            model = model\n",
    "       # print('recall: ' + str(recall) + ' at ' + str(i))\n",
    "\n",
    "        #print(\"confusion matrix: \")\n",
    "        #print(confusion_matrix(y_test, y_pred))\n",
    "        \n",
    "    return max_recall, max_score, best_para, best_cm\n",
    "\n",
    "def para_model_gamma(X_train, y_train, X_test, y_test, par_val):\n",
    "    best_depth = 8\n",
    "    best_estimator =1000\n",
    "    clf = XGBClassifier\n",
    "    \n",
    "    max_recall = 0\n",
    "    max_score = 0\n",
    "    best_para = 0\n",
    "    best_cm = 0\n",
    "        \n",
    "    for i in par_val:\n",
    "        model = clf(n_estimators=best_estimator, max_depth=best_depth, gamma=i)\n",
    "        model.fit(X_train, y_train)\n",
    "        y_pred = model.predict(X_test)\n",
    "        score = accuracy_score(y_test, y_pred)\n",
    "        recall = recall_score(y_test, y_pred)\n",
    "        if recall > max_recall:\n",
    "            max_recall = recall\n",
    "            max_score = score\n",
    "            best_para = i\n",
    "            best_cm = confusion_matrix(y_test, y_pred)\n",
    "        #print('recall: ' + str(recall) + ' at ' + str(i))\n",
    "\n",
    "        #print(\"confusion matrix: \")\n",
    "        #print(confusion_matrix(y_test, y_pred))\n",
    "        \n",
    "    return max_recall, max_score, best_para, best_cm\n",
    "\n",
    "def para_model_alpha(X_train, y_train, X_test, y_test, par_val):\n",
    "    best_depth = 8\n",
    "    best_estimator =1000\n",
    "    clf = XGBClassifier\n",
    "    \n",
    "    max_recall = 0\n",
    "    max_score = 0\n",
    "    best_para = 0\n",
    "    best_cm = 0\n",
    "        \n",
    "    for i in par_val:\n",
    "        model = clf(n_estimators=best_estimator, max_depth=best_depth, reg_alpha=i)\n",
    "        model.fit(X_train, y_train)\n",
    "        y_pred = model.predict(X_test)\n",
    "        score = accuracy_score(y_test, y_pred)\n",
    "        recall = recall_score(y_test, y_pred)\n",
    "        if recall > max_recall:\n",
    "            max_recall = recall\n",
    "            max_score = score\n",
    "            best_para = i\n",
    "            best_cm = confusion_matrix(y_test, y_pred)\n",
    "        #print('recall: ' + str(recall) + ' at ' + str(i))\n",
    "\n",
    "        #print(\"confusion matrix: \")\n",
    "        #print(confusion_matrix(y_test, y_pred))\n",
    "        \n",
    "    return max_recall, max_score, best_para, best_cm"
   ]
  },
  {
   "cell_type": "markdown",
   "metadata": {},
   "source": [
    "# Optimizing Sentiment XGB"
   ]
  },
  {
   "cell_type": "code",
   "execution_count": 341,
   "metadata": {},
   "outputs": [
    {
     "name": "stdout",
     "output_type": "stream",
     "text": [
      "learning rate ...\n",
      "Recall  0.5545977011494253\n",
      "Accuracy  0.5520421607378129\n",
      "Parameter  0.3\n",
      "[[226 185]\n",
      " [155 193]]\n",
      "\n",
      "gamma ...\n",
      "Recall  0.5316091954022989\n",
      "Accuracy  0.5480895915678524\n",
      "Parameter  0.0\n",
      "[[231 180]\n",
      " [163 185]]\n",
      "\n",
      "subsample...\n",
      "Recall  0.5833333333333334\n",
      "Accuracy  0.5401844532279315\n",
      "Parameter  0.05\n",
      "[[207 204]\n",
      " [145 203]]\n",
      "\n",
      "alpha...\n",
      "Recall  0.5316091954022989\n",
      "Accuracy  0.5480895915678524\n",
      "Parameter  0.0\n",
      "[[231 180]\n",
      " [163 185]]\n",
      "\n"
     ]
    }
   ],
   "source": [
    "X_train, y_train, X_test, y_test = train_test_split_own(model_df, 60)\n",
    "\n",
    "scaler = StandardScaler().fit(X_train)\n",
    "\n",
    "X_train = scaler.transform(X_train)\n",
    "X_test = scaler.transform(X_test)\n",
    "\n",
    "par_val = [i/100 for i in range(0,50, 5)]\n",
    "\n",
    "print('learning rate ...')\n",
    "max_recall, max_score, best_para, cm = para_model_lr(X_train, y_train, X_test, y_test, par_val)\n",
    "print('Recall ', max_recall)\n",
    "print('Accuracy ', max_score)\n",
    "print('Parameter ',best_para)\n",
    "print(cm)\n",
    "print('')\n",
    "\n",
    "par_val = [i/100 for i in range(0,100, 5)]\n",
    "print('gamma ...')\n",
    "max_recall, max_score, best_para, cm = para_model_gamma(X_train, y_train, X_test, y_test, par_val)\n",
    "print('Recall ', max_recall)\n",
    "print('Accuracy ', max_score)\n",
    "print('Parameter ',best_para)\n",
    "print(cm)\n",
    "print('')\n",
    "\n",
    "print('subsample...')\n",
    "max_recall, max_score, best_para, cm = para_model_subsample(X_train, y_train, X_test, y_test, par_val)\n",
    "print('Recall ', max_recall)\n",
    "print('Accuracy ', max_score)\n",
    "print('Parameter ',best_para)\n",
    "print(cm)\n",
    "print('')\n",
    "\n",
    "print('alpha...')\n",
    "max_recall, max_score, best_para, cm = para_model_alpha(X_train, y_train, X_test, y_test, par_val)\n",
    "print('Recall ', max_recall)\n",
    "print('Accuracy ', max_score)\n",
    "print('Parameter ',best_para)\n",
    "print(cm)\n",
    "print('')"
   ]
  },
  {
   "cell_type": "markdown",
   "metadata": {},
   "source": [
    "# Optimizing financial XGB"
   ]
  },
  {
   "cell_type": "code",
   "execution_count": 342,
   "metadata": {},
   "outputs": [
    {
     "name": "stdout",
     "output_type": "stream",
     "text": [
      "learning rate ...\n",
      "Recall  0.4885057471264368\n",
      "Accuracy  0.5428194993412385\n",
      "Parameter  0.2\n",
      "[[242 169]\n",
      " [178 170]]\n",
      "\n",
      "gamma ...\n",
      "Recall  0.49712643678160917\n",
      "Accuracy  0.546772068511199\n",
      "Parameter  0.45\n",
      "[[242 169]\n",
      " [175 173]]\n",
      "\n",
      "subsample...\n",
      "Recall  0.5114942528735632\n",
      "Accuracy  0.541501976284585\n",
      "Parameter  0.1\n",
      "[[233 178]\n",
      " [170 178]]\n",
      "\n",
      "alpha...\n",
      "Recall  0.47988505747126436\n",
      "Accuracy  0.541501976284585\n",
      "Parameter  0.0\n",
      "[[244 167]\n",
      " [181 167]]\n",
      "\n"
     ]
    }
   ],
   "source": [
    "X_train, y_train, X_test, y_test = train_test_split_own(financial_only, 60)\n",
    "\n",
    "scaler = StandardScaler().fit(X_train)\n",
    "\n",
    "\n",
    "X_train = scaler.transform(X_train)\n",
    "X_test = scaler.transform(X_test)\n",
    "\n",
    "par_val = [i/100 for i in range(0,50, 5)]\n",
    "\n",
    "print('learning rate ...')\n",
    "max_recall, max_score, best_para, cm = para_model_lr(X_train, y_train, X_test, y_test, par_val)\n",
    "print('Recall ', max_recall)\n",
    "print('Accuracy ', max_score)\n",
    "print('Parameter ',best_para)\n",
    "print(cm)\n",
    "print('')\n",
    "\n",
    "par_val = [i/100 for i in range(0,100, 5)]\n",
    "print('gamma ...')\n",
    "max_recall, max_score, best_para, cm = para_model_gamma(X_train, y_train, X_test, y_test, par_val)\n",
    "print('Recall ', max_recall)\n",
    "print('Accuracy ', max_score)\n",
    "print('Parameter ',best_para)\n",
    "print(cm)\n",
    "print('')\n",
    "\n",
    "print('subsample...')\n",
    "max_recall, max_score, best_para, cm = para_model_subsample(X_train, y_train, X_test, y_test, par_val)\n",
    "print('Recall ', max_recall)\n",
    "print('Accuracy ', max_score)\n",
    "print('Parameter ',best_para)\n",
    "print(cm)\n",
    "print('')\n",
    "\n",
    "print('alpha...')\n",
    "max_recall, max_score, best_para, cm = para_model_alpha(X_train, y_train, X_test, y_test, par_val)\n",
    "print('Recall ', max_recall)\n",
    "print('Accuracy ', max_score)\n",
    "print('Parameter ',best_para)\n",
    "print(cm)\n",
    "print('')"
   ]
  },
  {
   "cell_type": "code",
   "execution_count": 331,
   "metadata": {},
   "outputs": [
    {
     "name": "stdout",
     "output_type": "stream",
     "text": [
      "Recall  0.5833333333333334\n",
      "[[207 204]\n",
      " [145 203]]\n"
     ]
    },
    {
     "data": {
      "application/vnd.plotly.v1+json": {
       "config": {
        "linkText": "Export to plot.ly",
        "plotlyServerURL": "https://plot.ly",
        "showLink": false
       },
       "data": [
        {
         "marker": {
          "color": [
           0.06836552917957306,
           0.0690632164478302,
           0.06920729577541351,
           0.07018411159515381,
           0.07032568752765656,
           0.07075722515583038,
           0.0715729147195816,
           0.07184436172246933,
           0.07252950966358185,
           0.07253188639879227,
           0.07295548170804977,
           0.07295660674571991,
           0.07355832308530807,
           0.07414781302213669
          ],
          "colorscale": [
           [
            0,
            "#440154"
           ],
           [
            0.1111111111111111,
            "#482878"
           ],
           [
            0.2222222222222222,
            "#3e4989"
           ],
           [
            0.3333333333333333,
            "#31688e"
           ],
           [
            0.4444444444444444,
            "#26828e"
           ],
           [
            0.5555555555555556,
            "#1f9e89"
           ],
           [
            0.6666666666666666,
            "#35b779"
           ],
           [
            0.7777777777777778,
            "#6ece58"
           ],
           [
            0.8888888888888888,
            "#b5de2b"
           ],
           [
            1,
            "#fde725"
           ]
          ],
          "reversescale": true
         },
         "name": "Feature importances for optimized sentiment XGB",
         "orientation": "h",
         "type": "bar",
         "x": [
          0.06836552917957306,
          0.0690632164478302,
          0.06920729577541351,
          0.07018411159515381,
          0.07032568752765656,
          0.07075722515583038,
          0.0715729147195816,
          0.07184436172246933,
          0.07252950966358185,
          0.07253188639879227,
          0.07295548170804977,
          0.07295660674571991,
          0.07355832308530807,
          0.07414781302213669
         ],
         "y": [
          "lag_vol_1h",
          "ma_compound_7d",
          "ma_like_14d",
          "ma_like_7d",
          "like",
          "ma_compound_3d",
          "ma_compound_14d",
          "lag_returns_2h",
          "ma_like_3d",
          "lag_vol_2h",
          "lag_vol_3h",
          "lag_returns_3h",
          "compound",
          "lag_returns_1h"
         ]
        }
       ],
       "layout": {
        "height": 600,
        "template": {
         "data": {
          "bar": [
           {
            "error_x": {
             "color": "#2a3f5f"
            },
            "error_y": {
             "color": "#2a3f5f"
            },
            "marker": {
             "line": {
              "color": "#E5ECF6",
              "width": 0.5
             }
            },
            "type": "bar"
           }
          ],
          "barpolar": [
           {
            "marker": {
             "line": {
              "color": "#E5ECF6",
              "width": 0.5
             }
            },
            "type": "barpolar"
           }
          ],
          "carpet": [
           {
            "aaxis": {
             "endlinecolor": "#2a3f5f",
             "gridcolor": "white",
             "linecolor": "white",
             "minorgridcolor": "white",
             "startlinecolor": "#2a3f5f"
            },
            "baxis": {
             "endlinecolor": "#2a3f5f",
             "gridcolor": "white",
             "linecolor": "white",
             "minorgridcolor": "white",
             "startlinecolor": "#2a3f5f"
            },
            "type": "carpet"
           }
          ],
          "choropleth": [
           {
            "colorbar": {
             "outlinewidth": 0,
             "ticks": ""
            },
            "type": "choropleth"
           }
          ],
          "contour": [
           {
            "colorbar": {
             "outlinewidth": 0,
             "ticks": ""
            },
            "colorscale": [
             [
              0,
              "#0d0887"
             ],
             [
              0.1111111111111111,
              "#46039f"
             ],
             [
              0.2222222222222222,
              "#7201a8"
             ],
             [
              0.3333333333333333,
              "#9c179e"
             ],
             [
              0.4444444444444444,
              "#bd3786"
             ],
             [
              0.5555555555555556,
              "#d8576b"
             ],
             [
              0.6666666666666666,
              "#ed7953"
             ],
             [
              0.7777777777777778,
              "#fb9f3a"
             ],
             [
              0.8888888888888888,
              "#fdca26"
             ],
             [
              1,
              "#f0f921"
             ]
            ],
            "type": "contour"
           }
          ],
          "contourcarpet": [
           {
            "colorbar": {
             "outlinewidth": 0,
             "ticks": ""
            },
            "type": "contourcarpet"
           }
          ],
          "heatmap": [
           {
            "colorbar": {
             "outlinewidth": 0,
             "ticks": ""
            },
            "colorscale": [
             [
              0,
              "#0d0887"
             ],
             [
              0.1111111111111111,
              "#46039f"
             ],
             [
              0.2222222222222222,
              "#7201a8"
             ],
             [
              0.3333333333333333,
              "#9c179e"
             ],
             [
              0.4444444444444444,
              "#bd3786"
             ],
             [
              0.5555555555555556,
              "#d8576b"
             ],
             [
              0.6666666666666666,
              "#ed7953"
             ],
             [
              0.7777777777777778,
              "#fb9f3a"
             ],
             [
              0.8888888888888888,
              "#fdca26"
             ],
             [
              1,
              "#f0f921"
             ]
            ],
            "type": "heatmap"
           }
          ],
          "heatmapgl": [
           {
            "colorbar": {
             "outlinewidth": 0,
             "ticks": ""
            },
            "colorscale": [
             [
              0,
              "#0d0887"
             ],
             [
              0.1111111111111111,
              "#46039f"
             ],
             [
              0.2222222222222222,
              "#7201a8"
             ],
             [
              0.3333333333333333,
              "#9c179e"
             ],
             [
              0.4444444444444444,
              "#bd3786"
             ],
             [
              0.5555555555555556,
              "#d8576b"
             ],
             [
              0.6666666666666666,
              "#ed7953"
             ],
             [
              0.7777777777777778,
              "#fb9f3a"
             ],
             [
              0.8888888888888888,
              "#fdca26"
             ],
             [
              1,
              "#f0f921"
             ]
            ],
            "type": "heatmapgl"
           }
          ],
          "histogram": [
           {
            "marker": {
             "colorbar": {
              "outlinewidth": 0,
              "ticks": ""
             }
            },
            "type": "histogram"
           }
          ],
          "histogram2d": [
           {
            "colorbar": {
             "outlinewidth": 0,
             "ticks": ""
            },
            "colorscale": [
             [
              0,
              "#0d0887"
             ],
             [
              0.1111111111111111,
              "#46039f"
             ],
             [
              0.2222222222222222,
              "#7201a8"
             ],
             [
              0.3333333333333333,
              "#9c179e"
             ],
             [
              0.4444444444444444,
              "#bd3786"
             ],
             [
              0.5555555555555556,
              "#d8576b"
             ],
             [
              0.6666666666666666,
              "#ed7953"
             ],
             [
              0.7777777777777778,
              "#fb9f3a"
             ],
             [
              0.8888888888888888,
              "#fdca26"
             ],
             [
              1,
              "#f0f921"
             ]
            ],
            "type": "histogram2d"
           }
          ],
          "histogram2dcontour": [
           {
            "colorbar": {
             "outlinewidth": 0,
             "ticks": ""
            },
            "colorscale": [
             [
              0,
              "#0d0887"
             ],
             [
              0.1111111111111111,
              "#46039f"
             ],
             [
              0.2222222222222222,
              "#7201a8"
             ],
             [
              0.3333333333333333,
              "#9c179e"
             ],
             [
              0.4444444444444444,
              "#bd3786"
             ],
             [
              0.5555555555555556,
              "#d8576b"
             ],
             [
              0.6666666666666666,
              "#ed7953"
             ],
             [
              0.7777777777777778,
              "#fb9f3a"
             ],
             [
              0.8888888888888888,
              "#fdca26"
             ],
             [
              1,
              "#f0f921"
             ]
            ],
            "type": "histogram2dcontour"
           }
          ],
          "mesh3d": [
           {
            "colorbar": {
             "outlinewidth": 0,
             "ticks": ""
            },
            "type": "mesh3d"
           }
          ],
          "parcoords": [
           {
            "line": {
             "colorbar": {
              "outlinewidth": 0,
              "ticks": ""
             }
            },
            "type": "parcoords"
           }
          ],
          "scatter": [
           {
            "marker": {
             "colorbar": {
              "outlinewidth": 0,
              "ticks": ""
             }
            },
            "type": "scatter"
           }
          ],
          "scatter3d": [
           {
            "line": {
             "colorbar": {
              "outlinewidth": 0,
              "ticks": ""
             }
            },
            "marker": {
             "colorbar": {
              "outlinewidth": 0,
              "ticks": ""
             }
            },
            "type": "scatter3d"
           }
          ],
          "scattercarpet": [
           {
            "marker": {
             "colorbar": {
              "outlinewidth": 0,
              "ticks": ""
             }
            },
            "type": "scattercarpet"
           }
          ],
          "scattergeo": [
           {
            "marker": {
             "colorbar": {
              "outlinewidth": 0,
              "ticks": ""
             }
            },
            "type": "scattergeo"
           }
          ],
          "scattergl": [
           {
            "marker": {
             "colorbar": {
              "outlinewidth": 0,
              "ticks": ""
             }
            },
            "type": "scattergl"
           }
          ],
          "scattermapbox": [
           {
            "marker": {
             "colorbar": {
              "outlinewidth": 0,
              "ticks": ""
             }
            },
            "type": "scattermapbox"
           }
          ],
          "scatterpolar": [
           {
            "marker": {
             "colorbar": {
              "outlinewidth": 0,
              "ticks": ""
             }
            },
            "type": "scatterpolar"
           }
          ],
          "scatterpolargl": [
           {
            "marker": {
             "colorbar": {
              "outlinewidth": 0,
              "ticks": ""
             }
            },
            "type": "scatterpolargl"
           }
          ],
          "scatterternary": [
           {
            "marker": {
             "colorbar": {
              "outlinewidth": 0,
              "ticks": ""
             }
            },
            "type": "scatterternary"
           }
          ],
          "surface": [
           {
            "colorbar": {
             "outlinewidth": 0,
             "ticks": ""
            },
            "colorscale": [
             [
              0,
              "#0d0887"
             ],
             [
              0.1111111111111111,
              "#46039f"
             ],
             [
              0.2222222222222222,
              "#7201a8"
             ],
             [
              0.3333333333333333,
              "#9c179e"
             ],
             [
              0.4444444444444444,
              "#bd3786"
             ],
             [
              0.5555555555555556,
              "#d8576b"
             ],
             [
              0.6666666666666666,
              "#ed7953"
             ],
             [
              0.7777777777777778,
              "#fb9f3a"
             ],
             [
              0.8888888888888888,
              "#fdca26"
             ],
             [
              1,
              "#f0f921"
             ]
            ],
            "type": "surface"
           }
          ],
          "table": [
           {
            "cells": {
             "fill": {
              "color": "#EBF0F8"
             },
             "line": {
              "color": "white"
             }
            },
            "header": {
             "fill": {
              "color": "#C8D4E3"
             },
             "line": {
              "color": "white"
             }
            },
            "type": "table"
           }
          ]
         },
         "layout": {
          "annotationdefaults": {
           "arrowcolor": "#2a3f5f",
           "arrowhead": 0,
           "arrowwidth": 1
          },
          "colorscale": {
           "diverging": [
            [
             0,
             "#8e0152"
            ],
            [
             0.1,
             "#c51b7d"
            ],
            [
             0.2,
             "#de77ae"
            ],
            [
             0.3,
             "#f1b6da"
            ],
            [
             0.4,
             "#fde0ef"
            ],
            [
             0.5,
             "#f7f7f7"
            ],
            [
             0.6,
             "#e6f5d0"
            ],
            [
             0.7,
             "#b8e186"
            ],
            [
             0.8,
             "#7fbc41"
            ],
            [
             0.9,
             "#4d9221"
            ],
            [
             1,
             "#276419"
            ]
           ],
           "sequential": [
            [
             0,
             "#0d0887"
            ],
            [
             0.1111111111111111,
             "#46039f"
            ],
            [
             0.2222222222222222,
             "#7201a8"
            ],
            [
             0.3333333333333333,
             "#9c179e"
            ],
            [
             0.4444444444444444,
             "#bd3786"
            ],
            [
             0.5555555555555556,
             "#d8576b"
            ],
            [
             0.6666666666666666,
             "#ed7953"
            ],
            [
             0.7777777777777778,
             "#fb9f3a"
            ],
            [
             0.8888888888888888,
             "#fdca26"
            ],
            [
             1,
             "#f0f921"
            ]
           ],
           "sequentialminus": [
            [
             0,
             "#0d0887"
            ],
            [
             0.1111111111111111,
             "#46039f"
            ],
            [
             0.2222222222222222,
             "#7201a8"
            ],
            [
             0.3333333333333333,
             "#9c179e"
            ],
            [
             0.4444444444444444,
             "#bd3786"
            ],
            [
             0.5555555555555556,
             "#d8576b"
            ],
            [
             0.6666666666666666,
             "#ed7953"
            ],
            [
             0.7777777777777778,
             "#fb9f3a"
            ],
            [
             0.8888888888888888,
             "#fdca26"
            ],
            [
             1,
             "#f0f921"
            ]
           ]
          },
          "colorway": [
           "#636efa",
           "#EF553B",
           "#00cc96",
           "#ab63fa",
           "#FFA15A",
           "#19d3f3",
           "#FF6692",
           "#B6E880",
           "#FF97FF",
           "#FECB52"
          ],
          "font": {
           "color": "#2a3f5f"
          },
          "geo": {
           "bgcolor": "white",
           "lakecolor": "white",
           "landcolor": "#E5ECF6",
           "showlakes": true,
           "showland": true,
           "subunitcolor": "white"
          },
          "hoverlabel": {
           "align": "left"
          },
          "hovermode": "closest",
          "mapbox": {
           "style": "light"
          },
          "paper_bgcolor": "white",
          "plot_bgcolor": "#E5ECF6",
          "polar": {
           "angularaxis": {
            "gridcolor": "white",
            "linecolor": "white",
            "ticks": ""
           },
           "bgcolor": "#E5ECF6",
           "radialaxis": {
            "gridcolor": "white",
            "linecolor": "white",
            "ticks": ""
           }
          },
          "scene": {
           "xaxis": {
            "backgroundcolor": "#E5ECF6",
            "gridcolor": "white",
            "gridwidth": 2,
            "linecolor": "white",
            "showbackground": true,
            "ticks": "",
            "zerolinecolor": "white"
           },
           "yaxis": {
            "backgroundcolor": "#E5ECF6",
            "gridcolor": "white",
            "gridwidth": 2,
            "linecolor": "white",
            "showbackground": true,
            "ticks": "",
            "zerolinecolor": "white"
           },
           "zaxis": {
            "backgroundcolor": "#E5ECF6",
            "gridcolor": "white",
            "gridwidth": 2,
            "linecolor": "white",
            "showbackground": true,
            "ticks": "",
            "zerolinecolor": "white"
           }
          },
          "shapedefaults": {
           "line": {
            "color": "#2a3f5f"
           }
          },
          "ternary": {
           "aaxis": {
            "gridcolor": "white",
            "linecolor": "white",
            "ticks": ""
           },
           "baxis": {
            "gridcolor": "white",
            "linecolor": "white",
            "ticks": ""
           },
           "bgcolor": "#E5ECF6",
           "caxis": {
            "gridcolor": "white",
            "linecolor": "white",
            "ticks": ""
           }
          },
          "title": {
           "x": 0.05
          },
          "xaxis": {
           "automargin": true,
           "gridcolor": "white",
           "linecolor": "white",
           "ticks": "",
           "zerolinecolor": "white",
           "zerolinewidth": 2
          },
          "yaxis": {
           "automargin": true,
           "gridcolor": "white",
           "linecolor": "white",
           "ticks": "",
           "zerolinecolor": "white",
           "zerolinewidth": 2
          }
         }
        },
        "title": {
         "text": "Feature importances for optimized sentiment XGB"
        },
        "width": 600,
        "yaxis": {
         "showgrid": false,
         "showline": false,
         "showticklabels": true
        }
       }
      },
      "text/html": [
       "<div>\n",
       "        \n",
       "        \n",
       "            <div id=\"3458ccb6-9235-4d2f-848b-7d81269fdd82\" class=\"plotly-graph-div\" style=\"height:600px; width:600px;\"></div>\n",
       "            <script type=\"text/javascript\">\n",
       "                require([\"plotly\"], function(Plotly) {\n",
       "                    window.PLOTLYENV=window.PLOTLYENV || {};\n",
       "                    \n",
       "                if (document.getElementById(\"3458ccb6-9235-4d2f-848b-7d81269fdd82\")) {\n",
       "                    Plotly.newPlot(\n",
       "                        '3458ccb6-9235-4d2f-848b-7d81269fdd82',\n",
       "                        [{\"marker\": {\"color\": [0.06836552917957306, 0.0690632164478302, 0.06920729577541351, 0.07018411159515381, 0.07032568752765656, 0.07075722515583038, 0.0715729147195816, 0.07184436172246933, 0.07252950966358185, 0.07253188639879227, 0.07295548170804977, 0.07295660674571991, 0.07355832308530807, 0.07414781302213669], \"colorscale\": [[0.0, \"#440154\"], [0.1111111111111111, \"#482878\"], [0.2222222222222222, \"#3e4989\"], [0.3333333333333333, \"#31688e\"], [0.4444444444444444, \"#26828e\"], [0.5555555555555556, \"#1f9e89\"], [0.6666666666666666, \"#35b779\"], [0.7777777777777778, \"#6ece58\"], [0.8888888888888888, \"#b5de2b\"], [1.0, \"#fde725\"]], \"reversescale\": true}, \"name\": \"Feature importances for optimized sentiment XGB\", \"orientation\": \"h\", \"type\": \"bar\", \"x\": [0.06836552917957306, 0.0690632164478302, 0.06920729577541351, 0.07018411159515381, 0.07032568752765656, 0.07075722515583038, 0.0715729147195816, 0.07184436172246933, 0.07252950966358185, 0.07253188639879227, 0.07295548170804977, 0.07295660674571991, 0.07355832308530807, 0.07414781302213669], \"y\": [\"lag_vol_1h\", \"ma_compound_7d\", \"ma_like_14d\", \"ma_like_7d\", \"like\", \"ma_compound_3d\", \"ma_compound_14d\", \"lag_returns_2h\", \"ma_like_3d\", \"lag_vol_2h\", \"lag_vol_3h\", \"lag_returns_3h\", \"compound\", \"lag_returns_1h\"]}],\n",
       "                        {\"height\": 600, \"template\": {\"data\": {\"bar\": [{\"error_x\": {\"color\": \"#2a3f5f\"}, \"error_y\": {\"color\": \"#2a3f5f\"}, \"marker\": {\"line\": {\"color\": \"#E5ECF6\", \"width\": 0.5}}, \"type\": \"bar\"}], \"barpolar\": [{\"marker\": {\"line\": {\"color\": \"#E5ECF6\", \"width\": 0.5}}, \"type\": \"barpolar\"}], \"carpet\": [{\"aaxis\": {\"endlinecolor\": \"#2a3f5f\", \"gridcolor\": \"white\", \"linecolor\": \"white\", \"minorgridcolor\": \"white\", \"startlinecolor\": \"#2a3f5f\"}, \"baxis\": {\"endlinecolor\": \"#2a3f5f\", \"gridcolor\": \"white\", \"linecolor\": \"white\", \"minorgridcolor\": \"white\", \"startlinecolor\": \"#2a3f5f\"}, \"type\": \"carpet\"}], \"choropleth\": [{\"colorbar\": {\"outlinewidth\": 0, \"ticks\": \"\"}, \"type\": \"choropleth\"}], \"contour\": [{\"colorbar\": {\"outlinewidth\": 0, \"ticks\": \"\"}, \"colorscale\": [[0.0, \"#0d0887\"], [0.1111111111111111, \"#46039f\"], [0.2222222222222222, \"#7201a8\"], [0.3333333333333333, \"#9c179e\"], [0.4444444444444444, \"#bd3786\"], [0.5555555555555556, \"#d8576b\"], [0.6666666666666666, \"#ed7953\"], [0.7777777777777778, \"#fb9f3a\"], [0.8888888888888888, \"#fdca26\"], [1.0, \"#f0f921\"]], \"type\": \"contour\"}], \"contourcarpet\": [{\"colorbar\": {\"outlinewidth\": 0, \"ticks\": \"\"}, \"type\": \"contourcarpet\"}], \"heatmap\": [{\"colorbar\": {\"outlinewidth\": 0, \"ticks\": \"\"}, \"colorscale\": [[0.0, \"#0d0887\"], [0.1111111111111111, \"#46039f\"], [0.2222222222222222, \"#7201a8\"], [0.3333333333333333, \"#9c179e\"], [0.4444444444444444, \"#bd3786\"], [0.5555555555555556, \"#d8576b\"], [0.6666666666666666, \"#ed7953\"], [0.7777777777777778, \"#fb9f3a\"], [0.8888888888888888, \"#fdca26\"], [1.0, \"#f0f921\"]], \"type\": \"heatmap\"}], \"heatmapgl\": [{\"colorbar\": {\"outlinewidth\": 0, \"ticks\": \"\"}, \"colorscale\": [[0.0, \"#0d0887\"], [0.1111111111111111, \"#46039f\"], [0.2222222222222222, \"#7201a8\"], [0.3333333333333333, \"#9c179e\"], [0.4444444444444444, \"#bd3786\"], [0.5555555555555556, \"#d8576b\"], [0.6666666666666666, \"#ed7953\"], [0.7777777777777778, \"#fb9f3a\"], [0.8888888888888888, \"#fdca26\"], [1.0, \"#f0f921\"]], \"type\": \"heatmapgl\"}], \"histogram\": [{\"marker\": {\"colorbar\": {\"outlinewidth\": 0, \"ticks\": \"\"}}, \"type\": \"histogram\"}], \"histogram2d\": [{\"colorbar\": {\"outlinewidth\": 0, \"ticks\": \"\"}, \"colorscale\": [[0.0, \"#0d0887\"], [0.1111111111111111, \"#46039f\"], [0.2222222222222222, \"#7201a8\"], [0.3333333333333333, \"#9c179e\"], [0.4444444444444444, \"#bd3786\"], [0.5555555555555556, \"#d8576b\"], [0.6666666666666666, \"#ed7953\"], [0.7777777777777778, \"#fb9f3a\"], [0.8888888888888888, \"#fdca26\"], [1.0, \"#f0f921\"]], \"type\": \"histogram2d\"}], \"histogram2dcontour\": [{\"colorbar\": {\"outlinewidth\": 0, \"ticks\": \"\"}, \"colorscale\": [[0.0, \"#0d0887\"], [0.1111111111111111, \"#46039f\"], [0.2222222222222222, \"#7201a8\"], [0.3333333333333333, \"#9c179e\"], [0.4444444444444444, \"#bd3786\"], [0.5555555555555556, \"#d8576b\"], [0.6666666666666666, \"#ed7953\"], [0.7777777777777778, \"#fb9f3a\"], [0.8888888888888888, \"#fdca26\"], [1.0, \"#f0f921\"]], \"type\": \"histogram2dcontour\"}], \"mesh3d\": [{\"colorbar\": {\"outlinewidth\": 0, \"ticks\": \"\"}, \"type\": \"mesh3d\"}], \"parcoords\": [{\"line\": {\"colorbar\": {\"outlinewidth\": 0, \"ticks\": \"\"}}, \"type\": \"parcoords\"}], \"scatter\": [{\"marker\": {\"colorbar\": {\"outlinewidth\": 0, \"ticks\": \"\"}}, \"type\": \"scatter\"}], \"scatter3d\": [{\"line\": {\"colorbar\": {\"outlinewidth\": 0, \"ticks\": \"\"}}, \"marker\": {\"colorbar\": {\"outlinewidth\": 0, \"ticks\": \"\"}}, \"type\": \"scatter3d\"}], \"scattercarpet\": [{\"marker\": {\"colorbar\": {\"outlinewidth\": 0, \"ticks\": \"\"}}, \"type\": \"scattercarpet\"}], \"scattergeo\": [{\"marker\": {\"colorbar\": {\"outlinewidth\": 0, \"ticks\": \"\"}}, \"type\": \"scattergeo\"}], \"scattergl\": [{\"marker\": {\"colorbar\": {\"outlinewidth\": 0, \"ticks\": \"\"}}, \"type\": \"scattergl\"}], \"scattermapbox\": [{\"marker\": {\"colorbar\": {\"outlinewidth\": 0, \"ticks\": \"\"}}, \"type\": \"scattermapbox\"}], \"scatterpolar\": [{\"marker\": {\"colorbar\": {\"outlinewidth\": 0, \"ticks\": \"\"}}, \"type\": \"scatterpolar\"}], \"scatterpolargl\": [{\"marker\": {\"colorbar\": {\"outlinewidth\": 0, \"ticks\": \"\"}}, \"type\": \"scatterpolargl\"}], \"scatterternary\": [{\"marker\": {\"colorbar\": {\"outlinewidth\": 0, \"ticks\": \"\"}}, \"type\": \"scatterternary\"}], \"surface\": [{\"colorbar\": {\"outlinewidth\": 0, \"ticks\": \"\"}, \"colorscale\": [[0.0, \"#0d0887\"], [0.1111111111111111, \"#46039f\"], [0.2222222222222222, \"#7201a8\"], [0.3333333333333333, \"#9c179e\"], [0.4444444444444444, \"#bd3786\"], [0.5555555555555556, \"#d8576b\"], [0.6666666666666666, \"#ed7953\"], [0.7777777777777778, \"#fb9f3a\"], [0.8888888888888888, \"#fdca26\"], [1.0, \"#f0f921\"]], \"type\": \"surface\"}], \"table\": [{\"cells\": {\"fill\": {\"color\": \"#EBF0F8\"}, \"line\": {\"color\": \"white\"}}, \"header\": {\"fill\": {\"color\": \"#C8D4E3\"}, \"line\": {\"color\": \"white\"}}, \"type\": \"table\"}]}, \"layout\": {\"annotationdefaults\": {\"arrowcolor\": \"#2a3f5f\", \"arrowhead\": 0, \"arrowwidth\": 1}, \"colorscale\": {\"diverging\": [[0, \"#8e0152\"], [0.1, \"#c51b7d\"], [0.2, \"#de77ae\"], [0.3, \"#f1b6da\"], [0.4, \"#fde0ef\"], [0.5, \"#f7f7f7\"], [0.6, \"#e6f5d0\"], [0.7, \"#b8e186\"], [0.8, \"#7fbc41\"], [0.9, \"#4d9221\"], [1, \"#276419\"]], \"sequential\": [[0.0, \"#0d0887\"], [0.1111111111111111, \"#46039f\"], [0.2222222222222222, \"#7201a8\"], [0.3333333333333333, \"#9c179e\"], [0.4444444444444444, \"#bd3786\"], [0.5555555555555556, \"#d8576b\"], [0.6666666666666666, \"#ed7953\"], [0.7777777777777778, \"#fb9f3a\"], [0.8888888888888888, \"#fdca26\"], [1.0, \"#f0f921\"]], \"sequentialminus\": [[0.0, \"#0d0887\"], [0.1111111111111111, \"#46039f\"], [0.2222222222222222, \"#7201a8\"], [0.3333333333333333, \"#9c179e\"], [0.4444444444444444, \"#bd3786\"], [0.5555555555555556, \"#d8576b\"], [0.6666666666666666, \"#ed7953\"], [0.7777777777777778, \"#fb9f3a\"], [0.8888888888888888, \"#fdca26\"], [1.0, \"#f0f921\"]]}, \"colorway\": [\"#636efa\", \"#EF553B\", \"#00cc96\", \"#ab63fa\", \"#FFA15A\", \"#19d3f3\", \"#FF6692\", \"#B6E880\", \"#FF97FF\", \"#FECB52\"], \"font\": {\"color\": \"#2a3f5f\"}, \"geo\": {\"bgcolor\": \"white\", \"lakecolor\": \"white\", \"landcolor\": \"#E5ECF6\", \"showlakes\": true, \"showland\": true, \"subunitcolor\": \"white\"}, \"hoverlabel\": {\"align\": \"left\"}, \"hovermode\": \"closest\", \"mapbox\": {\"style\": \"light\"}, \"paper_bgcolor\": \"white\", \"plot_bgcolor\": \"#E5ECF6\", \"polar\": {\"angularaxis\": {\"gridcolor\": \"white\", \"linecolor\": \"white\", \"ticks\": \"\"}, \"bgcolor\": \"#E5ECF6\", \"radialaxis\": {\"gridcolor\": \"white\", \"linecolor\": \"white\", \"ticks\": \"\"}}, \"scene\": {\"xaxis\": {\"backgroundcolor\": \"#E5ECF6\", \"gridcolor\": \"white\", \"gridwidth\": 2, \"linecolor\": \"white\", \"showbackground\": true, \"ticks\": \"\", \"zerolinecolor\": \"white\"}, \"yaxis\": {\"backgroundcolor\": \"#E5ECF6\", \"gridcolor\": \"white\", \"gridwidth\": 2, \"linecolor\": \"white\", \"showbackground\": true, \"ticks\": \"\", \"zerolinecolor\": \"white\"}, \"zaxis\": {\"backgroundcolor\": \"#E5ECF6\", \"gridcolor\": \"white\", \"gridwidth\": 2, \"linecolor\": \"white\", \"showbackground\": true, \"ticks\": \"\", \"zerolinecolor\": \"white\"}}, \"shapedefaults\": {\"line\": {\"color\": \"#2a3f5f\"}}, \"ternary\": {\"aaxis\": {\"gridcolor\": \"white\", \"linecolor\": \"white\", \"ticks\": \"\"}, \"baxis\": {\"gridcolor\": \"white\", \"linecolor\": \"white\", \"ticks\": \"\"}, \"bgcolor\": \"#E5ECF6\", \"caxis\": {\"gridcolor\": \"white\", \"linecolor\": \"white\", \"ticks\": \"\"}}, \"title\": {\"x\": 0.05}, \"xaxis\": {\"automargin\": true, \"gridcolor\": \"white\", \"linecolor\": \"white\", \"ticks\": \"\", \"zerolinecolor\": \"white\", \"zerolinewidth\": 2}, \"yaxis\": {\"automargin\": true, \"gridcolor\": \"white\", \"linecolor\": \"white\", \"ticks\": \"\", \"zerolinecolor\": \"white\", \"zerolinewidth\": 2}}}, \"title\": {\"text\": \"Feature importances for optimized sentiment XGB\"}, \"width\": 600, \"yaxis\": {\"showgrid\": false, \"showline\": false, \"showticklabels\": true}},\n",
       "                        {\"responsive\": true}\n",
       "                    ).then(function(){\n",
       "                            \n",
       "var gd = document.getElementById('3458ccb6-9235-4d2f-848b-7d81269fdd82');\n",
       "var x = new MutationObserver(function (mutations, observer) {{\n",
       "        var display = window.getComputedStyle(gd).display;\n",
       "        if (!display || display === 'none') {{\n",
       "            console.log([gd, 'removed!']);\n",
       "            Plotly.purge(gd);\n",
       "            observer.disconnect();\n",
       "        }}\n",
       "}});\n",
       "\n",
       "// Listen for the removal of the full notebook cells\n",
       "var notebookContainer = gd.closest('#notebook-container');\n",
       "if (notebookContainer) {{\n",
       "    x.observe(notebookContainer, {childList: true});\n",
       "}}\n",
       "\n",
       "// Listen for the clearing of the current output cell\n",
       "var outputEl = gd.closest('.output');\n",
       "if (outputEl) {{\n",
       "    x.observe(outputEl, {childList: true});\n",
       "}}\n",
       "\n",
       "                        })\n",
       "                };\n",
       "                });\n",
       "            </script>\n",
       "        </div>"
      ]
     },
     "metadata": {},
     "output_type": "display_data"
    }
   ],
   "source": [
    "# Final Model\n",
    "X_train, y_train, X_test, y_test = train_test_split_own(model_df, 60)\n",
    "\n",
    "scaler = StandardScaler().fit(X_train)\n",
    "\n",
    "X_train = scaler.transform(X_train)\n",
    "X_test = scaler.transform(X_test)\n",
    "\n",
    "best_depth = 8\n",
    "best_estimator = 1000\n",
    "sub = 0.05\n",
    "\n",
    "model = XGBClassifier(n_estimators=best_estimator, max_depth=best_depth, subsample=sub)\n",
    "model.fit(X_train, y_train)\n",
    "\n",
    "y_pred = model.predict(X_test)\n",
    "score = accuracy_score(y_test, y_pred)\n",
    "recall = recall_score(y_test, y_pred)\n",
    "print('Recall ', recall)\n",
    "print(confusion_matrix(y_test, y_pred))\n",
    "\n",
    "feature_importance(model_df, model, 'optimized sentiment XGB')"
   ]
  },
  {
   "cell_type": "code",
   "execution_count": null,
   "metadata": {},
   "outputs": [],
   "source": []
  }
 ],
 "metadata": {
  "kernelspec": {
   "display_name": "Python 3",
   "language": "python",
   "name": "python3"
  },
  "language_info": {
   "codemirror_mode": {
    "name": "ipython",
    "version": 3
   },
   "file_extension": ".py",
   "mimetype": "text/x-python",
   "name": "python",
   "nbconvert_exporter": "python",
   "pygments_lexer": "ipython3",
   "version": "3.6.4"
  }
 },
 "nbformat": 4,
 "nbformat_minor": 2
}
